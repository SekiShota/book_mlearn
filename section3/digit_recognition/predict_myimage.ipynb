{
 "cells": [
  {
   "cell_type": "markdown",
   "id": "a5d5d882",
   "metadata": {},
   "source": [
    "## 自分が書いた手書き数字の認識"
   ]
  },
  {
   "cell_type": "code",
   "execution_count": 12,
   "id": "495e0045",
   "metadata": {},
   "outputs": [],
   "source": [
    "import cv2\n",
    "import pickle\n",
    "import matplotlib.pyplot as plt\n",
    "import numpy as np\n",
    "\n",
    "def predict_digits(filename):\n",
    "    #学習済みモデルの読み込み\n",
    "    with open(\"digits.pkl\", \"rb\") as fp:\n",
    "        clf=pickle.load(fp)\n",
    "    \n",
    "    #自分で書いた手書き数字の画像の読み込み\n",
    "    my_img=cv2.imread(filename)\n",
    "#     kernel=np.ones((1,1), np.uint8)\n",
    "#     my_img=cv2.dilate(my_img, kernel, iterations=1)\n",
    "#     plt.imshow(my_img)\n",
    "    \n",
    "    #画像データを学習済みデータに合わせる\n",
    "    my_img=cv2.cvtColor(my_img, cv2.COLOR_BGR2GRAY)\n",
    "    my_img=cv2.resize(my_img, (8,8))\n",
    "    my_img=15-my_img/16\n",
    "    plt.imshow(my_img)\n",
    "    \n",
    "    #二次元配列を一次元配列に変換\n",
    "    my_img=my_img.reshape((-1,64))\n",
    "    \n",
    "    #予測\n",
    "    result=clf.predict(my_img)\n",
    "    return np.argmax(result[0])\n"
   ]
  },
  {
   "cell_type": "code",
   "execution_count": 14,
   "id": "8a5f3954",
   "metadata": {},
   "outputs": [
    {
     "name": "stdout",
     "output_type": "stream",
     "text": [
      "1/1 [==============================] - 0s 85ms/step\n",
      "hand7.png =  7\n"
     ]
    },
    {
     "data": {
      "image/png": "[encoded data removed]",
      "text/plain": [
       "<Figure size 432x288 with 1 Axes>"
      ]
     },
     "metadata": {
      "needs_background": "light"
     },
     "output_type": "display_data"
    }
   ],
   "source": [
    "#画像ファイルを指定して実行\n",
    "# print(\"hand0.png = \", predict_digits(\"hand0.png\"))\n",
    "# print(\"hand2.png = \", predict_digits(\"hand2.png\"))\n",
    "# print(\"hand3.png = \", predict_digits(\"hand3.png\"))\n",
    "# print(\"hand4.png = \", predict_digits(\"hand4.png\"))\n",
    "# print(\"hand5.png = \", predict_digits(\"hand5.png\"))\n",
    "# print(\"hand6.png = \", predict_digits(\"hand6.png\"))\n",
    "print(\"hand7.png = \", predict_digits(\"hand7.png\"))\n",
    "# print(\"hand8.png = \", predict_digits(\"hand8.png\"))\n",
    "# print(\"hand9.png = \", predict_digits(\"hand9.png\"))"
   ]
  },
  {
   "cell_type": "code",
   "execution_count": null,
   "id": "44c13bc3",
   "metadata": {},
   "outputs": [],
   "source": []
  }
 ],
 "metadata": {
  "kernelspec": {
   "display_name": "Python 3 (ipykernel)",
   "language": "python",
   "name": "python3"
  },
  "language_info": {
   "codemirror_mode": {
    "name": "ipython",
    "version": 3
   },
   "file_extension": ".py",
   "mimetype": "text/x-python",
   "name": "python",
   "nbconvert_exporter": "python",
   "pygments_lexer": "ipython3",
   "version": "3.9.12"
  }
 },
 "nbformat": 4,
 "nbformat_minor": 5
}
