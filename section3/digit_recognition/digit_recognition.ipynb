{
 "cells": [
  {
   "cell_type": "markdown",
   "id": "c940896a",
   "metadata": {},
   "source": [
    "## 手書き文字認識 \n",
    "\n",
    "* CNNで学習、予測 \n",
    "* モデルを保存 \n",
    "* 実際の手書き文字を予測 \n",
    "\n",
    "\n"
   ]
  },
  {
   "cell_type": "code",
   "execution_count": 15,
   "id": "b5ef2e5f",
   "metadata": {},
   "outputs": [],
   "source": [
    "import numpy as np\n",
    "import pandas as pd\n",
    "import matplotlib.pyplot as plt\n",
    "import cv2\n",
    "\n",
    "from sklearn import datasets\n",
    "from sklearn.model_selection import train_test_split\n",
    "from sklearn.metrics import accuracy_score\n",
    "\n",
    "from tensorflow.keras import models, layers, callbacks\n",
    "from keras.utils import np_utils\n"
   ]
  },
  {
   "cell_type": "code",
   "execution_count": 16,
   "id": "e326ad4c",
   "metadata": {},
   "outputs": [
    {
     "data": {
      "image/png": "[encoded data removed]",
      "text/plain": [
       "<Figure size 432x288 with 15 Axes>"
      ]
     },
     "metadata": {
      "needs_background": "light"
     },
     "output_type": "display_data"
    }
   ],
   "source": [
    "#データの読み込み\n",
    "digits=datasets.load_digits()\n",
    "\n",
    "#データの確認\n",
    "for i in range(15):\n",
    "    plt.subplot(3,5,i+1)\n",
    "    plt.axis(\"off\")\n",
    "    plt.title(str(digits.target[i]))\n",
    "    plt.imshow(digits.images[i], cmap=\"gray\")\n",
    "    \n",
    "plt.show()"
   ]
  },
  {
   "cell_type": "code",
   "execution_count": 17,
   "id": "acdf700e",
   "metadata": {},
   "outputs": [
    {
     "name": "stdout",
     "output_type": "stream",
     "text": [
      "[[ 0.  0.  5. 13.  9.  1.  0.  0.]\n",
      " [ 0.  0. 13. 15. 10. 15.  5.  0.]\n",
      " [ 0.  3. 15.  2.  0. 11.  8.  0.]\n",
      " [ 0.  4. 12.  0.  0.  8.  8.  0.]\n",
      " [ 0.  5.  8.  0.  0.  9.  8.  0.]\n",
      " [ 0.  4. 11.  0.  1. 12.  7.  0.]\n",
      " [ 0.  2. 14.  5. 10. 12.  0.  0.]\n",
      " [ 0.  0.  6. 13. 10.  0.  0.  0.]]\n"
     ]
    }
   ],
   "source": [
    "#0は黒、16は白\n",
    "print(digits.images[0])"
   ]
  },
  {
   "cell_type": "code",
   "execution_count": 18,
   "id": "a9ca70ca",
   "metadata": {},
   "outputs": [],
   "source": [
    "#正規化する0-1\n",
    "# X=digits.images/16\n",
    "X=digits.images"
   ]
  },
  {
   "cell_type": "code",
   "execution_count": 19,
   "id": "cd141b6e",
   "metadata": {},
   "outputs": [],
   "source": [
    "#モデルで学習させる\n",
    "\n",
    "#データの用意\n",
    "#目的変数は質的変数なのでone-hotエンコーディングの必要がある\n",
    "X_data=X.reshape((-1,64))\n",
    "y_data=np_utils.to_categorical(digits.target)\n",
    "\n",
    "#学習用とテスト用に分割\n",
    "X_train, X_test, y_train, y_test=train_test_split(X_data, y_data, test_size=0.2, random_state=20221010)"
   ]
  },
  {
   "cell_type": "markdown",
   "id": "ded054e3",
   "metadata": {},
   "source": [
    "## NNで学習・予測"
   ]
  },
  {
   "cell_type": "code",
   "execution_count": 6,
   "id": "b477cef0",
   "metadata": {},
   "outputs": [
    {
     "name": "stdout",
     "output_type": "stream",
     "text": [
      "Model: \"sequential\"\n",
      "_________________________________________________________________\n",
      " Layer (type)                Output Shape              Param #   \n",
      "=================================================================\n",
      " dense (Dense)               (None, 64)                4160      \n",
      "                                                                 \n",
      " activation (Activation)     (None, 64)                0         \n",
      "                                                                 \n",
      " dense_1 (Dense)             (None, 32)                2080      \n",
      "                                                                 \n",
      " activation_1 (Activation)   (None, 32)                0         \n",
      "                                                                 \n",
      " dropout (Dropout)           (None, 32)                0         \n",
      "                                                                 \n",
      " dense_2 (Dense)             (None, 10)                330       \n",
      "                                                                 \n"
     ]
    },
    {
     "name": "stderr",
     "output_type": "stream",
     "text": [
      "2022-10-11 12:00:09.104997: I tensorflow/core/platform/cpu_feature_guard.cc:193] This TensorFlow binary is optimized with oneAPI Deep Neural Network Library (oneDNN) to use the following CPU instructions in performance-critical operations:  AVX2 FMA\n",
      "To enable them in other operations, rebuild TensorFlow with the appropriate compiler flags.\n"
     ]
    },
    {
     "name": "stdout",
     "output_type": "stream",
     "text": [
      " activation_2 (Activation)   (None, 10)                0         \n",
      "                                                                 \n",
      "=================================================================\n",
      "Total params: 6,570\n",
      "Trainable params: 6,570\n",
      "Non-trainable params: 0\n",
      "_________________________________________________________________\n"
     ]
    }
   ],
   "source": [
    "#アーキテクチャの構築\n",
    "#入力層64, 中間層16, 出力層10\n",
    "clf=models.Sequential()\n",
    "clf.add(layers.Dense(64, input_shape=(64,)))\n",
    "clf.add(layers.Activation('relu'))\n",
    "clf.add(layers.Dense(32, input_shape=(16,)))\n",
    "clf.add(layers.Activation('relu'))\n",
    "clf.add(layers.Dropout(0.25))\n",
    "clf.add(layers.Dense(10))\n",
    "clf.add(layers.Activation('softmax'))\n",
    "\n",
    "#コンパイル\n",
    "clf.compile(optimizer='adam', loss='categorical_crossentropy', metrics=['accuracy'])\n",
    "\n",
    "#early_stopping\n",
    "cb_es=callbacks.EarlyStopping(\n",
    "    monitor='loss',\n",
    "    patience=10,\n",
    "    restore_best_weights=True\n",
    ")\n",
    "\n",
    "clf.summary()"
   ]
  },
  {
   "cell_type": "code",
   "execution_count": 7,
   "id": "f18c45ab",
   "metadata": {
    "scrolled": true
   },
   "outputs": [
    {
     "name": "stdout",
     "output_type": "stream",
     "text": [
      "Epoch 1/100\n",
      "45/45 [==============================] - 1s 3ms/step - loss: 4.5867 - accuracy: 0.1879\n",
      "Epoch 2/100\n",
      "45/45 [==============================] - 0s 3ms/step - loss: 1.6477 - accuracy: 0.4231\n",
      "Epoch 3/100\n",
      "45/45 [==============================] - 0s 3ms/step - loss: 1.2185 - accuracy: 0.5678\n",
      "Epoch 4/100\n",
      "45/45 [==============================] - 0s 3ms/step - loss: 0.9285 - accuracy: 0.6729\n",
      "Epoch 5/100\n",
      "45/45 [==============================] - 0s 4ms/step - loss: 0.7584 - accuracy: 0.7300\n",
      "Epoch 6/100\n",
      "45/45 [==============================] - 0s 3ms/step - loss: 0.6333 - accuracy: 0.7898\n",
      "Epoch 7/100\n",
      "45/45 [==============================] - 0s 3ms/step - loss: 0.5407 - accuracy: 0.7989\n",
      "Epoch 8/100\n",
      "45/45 [==============================] - 0s 4ms/step - loss: 0.4878 - accuracy: 0.8239\n",
      "Epoch 9/100\n",
      "45/45 [==============================] - 0s 3ms/step - loss: 0.4410 - accuracy: 0.8365\n",
      "Epoch 10/100\n",
      "45/45 [==============================] - 0s 3ms/step - loss: 0.3635 - accuracy: 0.8685\n",
      "Epoch 11/100\n",
      "45/45 [==============================] - 0s 2ms/step - loss: 0.3614 - accuracy: 0.8789\n",
      "Epoch 12/100\n",
      "45/45 [==============================] - 0s 2ms/step - loss: 0.3331 - accuracy: 0.8768\n",
      "Epoch 13/100\n",
      "45/45 [==============================] - 0s 2ms/step - loss: 0.2895 - accuracy: 0.9054\n",
      "Epoch 14/100\n",
      "45/45 [==============================] - 0s 2ms/step - loss: 0.2751 - accuracy: 0.9144\n",
      "Epoch 15/100\n",
      "45/45 [==============================] - 0s 2ms/step - loss: 0.2391 - accuracy: 0.9262\n",
      "Epoch 16/100\n",
      "45/45 [==============================] - 0s 2ms/step - loss: 0.2278 - accuracy: 0.9228\n",
      "Epoch 17/100\n",
      "45/45 [==============================] - 0s 2ms/step - loss: 0.2398 - accuracy: 0.9151\n",
      "Epoch 18/100\n",
      "45/45 [==============================] - 0s 2ms/step - loss: 0.1997 - accuracy: 0.9353\n",
      "Epoch 19/100\n",
      "45/45 [==============================] - 0s 2ms/step - loss: 0.1873 - accuracy: 0.9304\n",
      "Epoch 20/100\n",
      "45/45 [==============================] - 0s 2ms/step - loss: 0.1764 - accuracy: 0.9381\n",
      "Epoch 21/100\n",
      "45/45 [==============================] - 0s 2ms/step - loss: 0.1553 - accuracy: 0.9443\n",
      "Epoch 22/100\n",
      "45/45 [==============================] - 0s 2ms/step - loss: 0.1401 - accuracy: 0.9534\n",
      "Epoch 23/100\n",
      "45/45 [==============================] - 0s 2ms/step - loss: 0.1624 - accuracy: 0.9450\n",
      "Epoch 24/100\n",
      "45/45 [==============================] - 0s 2ms/step - loss: 0.1292 - accuracy: 0.9576\n",
      "Epoch 25/100\n",
      "45/45 [==============================] - 0s 2ms/step - loss: 0.1289 - accuracy: 0.9576\n",
      "Epoch 26/100\n",
      "45/45 [==============================] - 0s 2ms/step - loss: 0.1146 - accuracy: 0.9562\n",
      "Epoch 27/100\n",
      "45/45 [==============================] - 0s 2ms/step - loss: 0.1158 - accuracy: 0.9582\n",
      "Epoch 28/100\n",
      "45/45 [==============================] - 0s 3ms/step - loss: 0.1125 - accuracy: 0.9617\n",
      "Epoch 29/100\n",
      "45/45 [==============================] - 0s 2ms/step - loss: 0.1130 - accuracy: 0.9596\n",
      "Epoch 30/100\n",
      "45/45 [==============================] - 0s 5ms/step - loss: 0.1124 - accuracy: 0.9617\n",
      "Epoch 31/100\n",
      "45/45 [==============================] - 0s 2ms/step - loss: 0.1138 - accuracy: 0.9596\n",
      "Epoch 32/100\n",
      "45/45 [==============================] - 0s 2ms/step - loss: 0.1094 - accuracy: 0.9631\n",
      "Epoch 33/100\n",
      "45/45 [==============================] - 0s 2ms/step - loss: 0.0898 - accuracy: 0.9715\n",
      "Epoch 34/100\n",
      "45/45 [==============================] - 0s 2ms/step - loss: 0.0846 - accuracy: 0.9743\n",
      "Epoch 35/100\n",
      "45/45 [==============================] - 0s 2ms/step - loss: 0.0912 - accuracy: 0.9659\n",
      "Epoch 36/100\n",
      "45/45 [==============================] - 0s 2ms/step - loss: 0.0793 - accuracy: 0.9729\n",
      "Epoch 37/100\n",
      "45/45 [==============================] - 0s 2ms/step - loss: 0.0766 - accuracy: 0.9770\n",
      "Epoch 38/100\n",
      "45/45 [==============================] - 0s 2ms/step - loss: 0.0709 - accuracy: 0.9749\n",
      "Epoch 39/100\n",
      "45/45 [==============================] - 0s 3ms/step - loss: 0.0700 - accuracy: 0.9784\n",
      "Epoch 40/100\n",
      "45/45 [==============================] - 0s 2ms/step - loss: 0.0671 - accuracy: 0.9756\n",
      "Epoch 41/100\n",
      "45/45 [==============================] - 0s 2ms/step - loss: 0.0679 - accuracy: 0.9722\n",
      "Epoch 42/100\n",
      "45/45 [==============================] - 0s 2ms/step - loss: 0.0730 - accuracy: 0.9722\n",
      "Epoch 43/100\n",
      "45/45 [==============================] - 0s 2ms/step - loss: 0.0544 - accuracy: 0.9833\n",
      "Epoch 44/100\n",
      "45/45 [==============================] - 0s 2ms/step - loss: 0.0575 - accuracy: 0.9812\n",
      "Epoch 45/100\n",
      "45/45 [==============================] - 0s 2ms/step - loss: 0.0556 - accuracy: 0.9847\n",
      "Epoch 46/100\n",
      "45/45 [==============================] - 0s 3ms/step - loss: 0.0449 - accuracy: 0.9840\n",
      "Epoch 47/100\n",
      "45/45 [==============================] - 0s 3ms/step - loss: 0.0440 - accuracy: 0.9833\n",
      "Epoch 48/100\n",
      "45/45 [==============================] - 0s 3ms/step - loss: 0.0655 - accuracy: 0.9770\n",
      "Epoch 49/100\n",
      "45/45 [==============================] - 0s 3ms/step - loss: 0.0489 - accuracy: 0.9847\n",
      "Epoch 50/100\n",
      "45/45 [==============================] - 0s 3ms/step - loss: 0.0380 - accuracy: 0.9903\n",
      "Epoch 51/100\n",
      "45/45 [==============================] - 0s 3ms/step - loss: 0.0517 - accuracy: 0.9791\n",
      "Epoch 52/100\n",
      "45/45 [==============================] - 0s 3ms/step - loss: 0.0547 - accuracy: 0.9819\n",
      "Epoch 53/100\n",
      "45/45 [==============================] - 0s 4ms/step - loss: 0.0508 - accuracy: 0.9791\n",
      "Epoch 54/100\n",
      "45/45 [==============================] - 0s 3ms/step - loss: 0.0353 - accuracy: 0.9889\n",
      "Epoch 55/100\n",
      "45/45 [==============================] - 0s 3ms/step - loss: 0.0398 - accuracy: 0.9861\n",
      "Epoch 56/100\n",
      "45/45 [==============================] - 0s 3ms/step - loss: 0.0395 - accuracy: 0.9854\n",
      "Epoch 57/100\n",
      "45/45 [==============================] - 0s 3ms/step - loss: 0.0373 - accuracy: 0.9896\n",
      "Epoch 58/100\n",
      "45/45 [==============================] - 0s 3ms/step - loss: 0.0375 - accuracy: 0.9861\n",
      "Epoch 59/100\n",
      "45/45 [==============================] - 0s 3ms/step - loss: 0.0385 - accuracy: 0.9847\n",
      "Epoch 60/100\n",
      "45/45 [==============================] - 0s 3ms/step - loss: 0.0309 - accuracy: 0.9875\n",
      "Epoch 61/100\n",
      "45/45 [==============================] - 0s 3ms/step - loss: 0.0329 - accuracy: 0.9903\n",
      "Epoch 62/100\n",
      "45/45 [==============================] - 0s 3ms/step - loss: 0.0345 - accuracy: 0.9882\n",
      "Epoch 63/100\n",
      "45/45 [==============================] - 0s 4ms/step - loss: 0.0350 - accuracy: 0.9910\n",
      "Epoch 64/100\n",
      "45/45 [==============================] - 0s 2ms/step - loss: 0.0351 - accuracy: 0.9889\n",
      "Epoch 65/100\n",
      "45/45 [==============================] - 0s 3ms/step - loss: 0.0335 - accuracy: 0.9875\n",
      "Epoch 66/100\n",
      "45/45 [==============================] - 0s 3ms/step - loss: 0.0306 - accuracy: 0.9882\n",
      "Epoch 67/100\n",
      "45/45 [==============================] - 0s 3ms/step - loss: 0.0356 - accuracy: 0.9896\n",
      "Epoch 68/100\n",
      "45/45 [==============================] - 0s 3ms/step - loss: 0.0263 - accuracy: 0.9903\n",
      "Epoch 69/100\n",
      "45/45 [==============================] - 0s 3ms/step - loss: 0.0404 - accuracy: 0.9840\n",
      "Epoch 70/100\n",
      "45/45 [==============================] - 0s 3ms/step - loss: 0.0268 - accuracy: 0.9910\n",
      "Epoch 71/100\n",
      "45/45 [==============================] - 0s 3ms/step - loss: 0.0237 - accuracy: 0.9910\n",
      "Epoch 72/100\n",
      "45/45 [==============================] - 0s 3ms/step - loss: 0.0330 - accuracy: 0.9882\n",
      "Epoch 73/100\n",
      "45/45 [==============================] - 0s 3ms/step - loss: 0.0293 - accuracy: 0.9916\n",
      "Epoch 74/100\n",
      "45/45 [==============================] - 0s 3ms/step - loss: 0.0304 - accuracy: 0.9854\n",
      "Epoch 75/100\n",
      "45/45 [==============================] - 0s 2ms/step - loss: 0.0258 - accuracy: 0.9910\n",
      "Epoch 76/100\n",
      "45/45 [==============================] - 0s 3ms/step - loss: 0.0147 - accuracy: 0.9986\n",
      "Epoch 77/100\n",
      "45/45 [==============================] - 0s 3ms/step - loss: 0.0239 - accuracy: 0.9903\n",
      "Epoch 78/100\n",
      "45/45 [==============================] - 0s 3ms/step - loss: 0.0331 - accuracy: 0.9916\n",
      "Epoch 79/100\n",
      "45/45 [==============================] - 0s 3ms/step - loss: 0.0355 - accuracy: 0.9861\n",
      "Epoch 80/100\n",
      "45/45 [==============================] - 0s 3ms/step - loss: 0.0314 - accuracy: 0.9861\n",
      "Epoch 81/100\n",
      "45/45 [==============================] - 0s 4ms/step - loss: 0.0251 - accuracy: 0.9944\n",
      "Epoch 82/100\n",
      "45/45 [==============================] - 0s 3ms/step - loss: 0.0231 - accuracy: 0.9889\n",
      "Epoch 83/100\n"
     ]
    },
    {
     "name": "stdout",
     "output_type": "stream",
     "text": [
      "45/45 [==============================] - 0s 3ms/step - loss: 0.0242 - accuracy: 0.9889\n",
      "Epoch 84/100\n",
      "45/45 [==============================] - 0s 3ms/step - loss: 0.0259 - accuracy: 0.9903\n",
      "Epoch 85/100\n",
      "45/45 [==============================] - 0s 2ms/step - loss: 0.0271 - accuracy: 0.9910\n",
      "Epoch 86/100\n",
      "45/45 [==============================] - 0s 3ms/step - loss: 0.0279 - accuracy: 0.9903\n"
     ]
    }
   ],
   "source": [
    "#学習\n",
    "history=clf.fit(X_train, y_train, epochs=100, verbose=1,callbacks=cb_es)"
   ]
  },
  {
   "cell_type": "code",
   "execution_count": 8,
   "id": "209aaf3a",
   "metadata": {},
   "outputs": [
    {
     "name": "stdout",
     "output_type": "stream",
     "text": [
      "損失： 0.08241300284862518\n",
      "正解率： 0.9777777791023254\n"
     ]
    }
   ],
   "source": [
    "loss, accuracy=clf.evaluate(X_test, y_test, verbose=0)\n",
    "print('損失：',loss)\n",
    "print('正解率：', accuracy)"
   ]
  },
  {
   "cell_type": "code",
   "execution_count": 9,
   "id": "285b54a5",
   "metadata": {},
   "outputs": [
    {
     "data": {
      "image/png": "[encoded data removed]",
      "text/plain": [
       "<Figure size 432x288 with 1 Axes>"
      ]
     },
     "metadata": {
      "needs_background": "light"
     },
     "output_type": "display_data"
    }
   ],
   "source": [
    "plt.plot(history.history['accuracy'])\n",
    "plt.plot(history.history['loss'])\n",
    "plt.ylim(0.0, 1.1)\n",
    "\n",
    "plt.show()"
   ]
  },
  {
   "cell_type": "code",
   "execution_count": 10,
   "id": "b3c76d98",
   "metadata": {},
   "outputs": [
    {
     "name": "stdout",
     "output_type": "stream",
     "text": [
      "INFO:tensorflow:Assets written to: ram://0413cfb3-efaa-4eec-89bb-1409e6eb62e8/assets\n"
     ]
    }
   ],
   "source": [
    "#学習済みモデルの保存\n",
    "import pickle\n",
    "with open(\"digits.pkl\", \"wb\") as fp:\n",
    "    pickle.dump(clf, fp)"
   ]
  },
  {
   "cell_type": "code",
   "execution_count": 11,
   "id": "d887fff9",
   "metadata": {},
   "outputs": [
    {
     "name": "stdout",
     "output_type": "stream",
     "text": [
      "損失： 0.08241300284862518\n",
      "正解率： 0.9777777791023254\n"
     ]
    }
   ],
   "source": [
    "#学習済みモデルの読み込み\n",
    "with open(\"digits.pkl\", \"rb\") as fp:\n",
    "    clf1=pickle.load(fp)\n",
    "\n",
    "loss, accuracy=clf1.evaluate(X_test, y_test, verbose=0)\n",
    "print('損失：',loss)\n",
    "print('正解率：', accuracy)"
   ]
  },
  {
   "cell_type": "code",
   "execution_count": 13,
   "id": "95ecb76d",
   "metadata": {},
   "outputs": [
    {
     "name": "stdout",
     "output_type": "stream",
     "text": [
      "12/12 [==============================] - 0s 5ms/step\n"
     ]
    },
    {
     "data": {
      "text/plain": [
       "(360, 10)"
      ]
     },
     "execution_count": 13,
     "metadata": {},
     "output_type": "execute_result"
    }
   ],
   "source": [
    "clf1.predict(X_test).shape"
   ]
  },
  {
   "cell_type": "markdown",
   "id": "c8913ace",
   "metadata": {},
   "source": [
    "## SVMで予測・学習"
   ]
  },
  {
   "cell_type": "code",
   "execution_count": 20,
   "id": "f31944d3",
   "metadata": {},
   "outputs": [],
   "source": [
    "from sklearn import svm "
   ]
  },
  {
   "cell_type": "code",
   "execution_count": 21,
   "id": "0be74ac7",
   "metadata": {},
   "outputs": [],
   "source": [
    "#データの用意\n",
    "#目的変数は質的変数なのでone-hotエンコーディングの必要がある\n",
    "X_data2=X.reshape((-1,64))\n",
    "y_data2=digits.target\n",
    "\n",
    "#学習用とテスト用に分割\n",
    "X_train2, X_test2, y_train2, y_test2=train_test_split(X_data2, y_data2, test_size=0.2, random_state=20221010)"
   ]
  },
  {
   "cell_type": "code",
   "execution_count": 22,
   "id": "4688d3d8",
   "metadata": {},
   "outputs": [
    {
     "data": {
      "text/html": [
       "<style>#sk-container-id-1 {color: black;background-color: white;}#sk-container-id-1 pre{padding: 0;}#sk-container-id-1 div.sk-toggleable {background-color: white;}#sk-container-id-1 label.sk-toggleable__label {cursor: pointer;display: block;width: 100%;margin-bottom: 0;padding: 0.3em;box-sizing: border-box;text-align: center;}#sk-container-id-1 label.sk-toggleable__label-arrow:before {content: \"▸\";float: left;margin-right: 0.25em;color: #696969;}#sk-container-id-1 label.sk-toggleable__label-arrow:hover:before {color: black;}#sk-container-id-1 div.sk-estimator:hover label.sk-toggleable__label-arrow:before {color: black;}#sk-container-id-1 div.sk-toggleable__content {max-height: 0;max-width: 0;overflow: hidden;text-align: left;background-color: #f0f8ff;}#sk-container-id-1 div.sk-toggleable__content pre {margin: 0.2em;color: black;border-radius: 0.25em;background-color: #f0f8ff;}#sk-container-id-1 input.sk-toggleable__control:checked~div.sk-toggleable__content {max-height: 200px;max-width: 100%;overflow: auto;}#sk-container-id-1 input.sk-toggleable__control:checked~label.sk-toggleable__label-arrow:before {content: \"▾\";}#sk-container-id-1 div.sk-estimator input.sk-toggleable__control:checked~label.sk-toggleable__label {background-color: #d4ebff;}#sk-container-id-1 div.sk-label input.sk-toggleable__control:checked~label.sk-toggleable__label {background-color: #d4ebff;}#sk-container-id-1 input.sk-hidden--visually {border: 0;clip: rect(1px 1px 1px 1px);clip: rect(1px, 1px, 1px, 1px);height: 1px;margin: -1px;overflow: hidden;padding: 0;position: absolute;width: 1px;}#sk-container-id-1 div.sk-estimator {font-family: monospace;background-color: #f0f8ff;border: 1px dotted black;border-radius: 0.25em;box-sizing: border-box;margin-bottom: 0.5em;}#sk-container-id-1 div.sk-estimator:hover {background-color: #d4ebff;}#sk-container-id-1 div.sk-parallel-item::after {content: \"\";width: 100%;border-bottom: 1px solid gray;flex-grow: 1;}#sk-container-id-1 div.sk-label:hover label.sk-toggleable__label {background-color: #d4ebff;}#sk-container-id-1 div.sk-serial::before {content: \"\";position: absolute;border-left: 1px solid gray;box-sizing: border-box;top: 0;bottom: 0;left: 50%;z-index: 0;}#sk-container-id-1 div.sk-serial {display: flex;flex-direction: column;align-items: center;background-color: white;padding-right: 0.2em;padding-left: 0.2em;position: relative;}#sk-container-id-1 div.sk-item {position: relative;z-index: 1;}#sk-container-id-1 div.sk-parallel {display: flex;align-items: stretch;justify-content: center;background-color: white;position: relative;}#sk-container-id-1 div.sk-item::before, #sk-container-id-1 div.sk-parallel-item::before {content: \"\";position: absolute;border-left: 1px solid gray;box-sizing: border-box;top: 0;bottom: 0;left: 50%;z-index: -1;}#sk-container-id-1 div.sk-parallel-item {display: flex;flex-direction: column;z-index: 1;position: relative;background-color: white;}#sk-container-id-1 div.sk-parallel-item:first-child::after {align-self: flex-end;width: 50%;}#sk-container-id-1 div.sk-parallel-item:last-child::after {align-self: flex-start;width: 50%;}#sk-container-id-1 div.sk-parallel-item:only-child::after {width: 0;}#sk-container-id-1 div.sk-dashed-wrapped {border: 1px dashed gray;margin: 0 0.4em 0.5em 0.4em;box-sizing: border-box;padding-bottom: 0.4em;background-color: white;}#sk-container-id-1 div.sk-label label {font-family: monospace;font-weight: bold;display: inline-block;line-height: 1.2em;}#sk-container-id-1 div.sk-label-container {text-align: center;}#sk-container-id-1 div.sk-container {/* jupyter's `normalize.less` sets `[hidden] { display: none; }` but bootstrap.min.css set `[hidden] { display: none !important; }` so we also need the `!important` here to be able to override the default hidden behavior on the sphinx rendered scikit-learn.org. See: https://github.com/scikit-learn/scikit-learn/issues/21755 */display: inline-block !important;position: relative;}#sk-container-id-1 div.sk-text-repr-fallback {display: none;}</style><div id=\"sk-container-id-1\" class=\"sk-top-container\"><div class=\"sk-text-repr-fallback\"><pre>SVC()</pre><b>In a Jupyter environment, please rerun this cell to show the HTML representation or trust the notebook. <br />On GitHub, the HTML representation is unable to render, please try loading this page with nbviewer.org.</b></div><div class=\"sk-container\" hidden><div class=\"sk-item\"><div class=\"sk-estimator sk-toggleable\"><input class=\"sk-toggleable__control sk-hidden--visually\" id=\"sk-estimator-id-1\" type=\"checkbox\" checked><label for=\"sk-estimator-id-1\" class=\"sk-toggleable__label sk-toggleable__label-arrow\">SVC</label><div class=\"sk-toggleable__content\"><pre>SVC()</pre></div></div></div></div></div>"
      ],
      "text/plain": [
       "SVC()"
      ]
     },
     "execution_count": 22,
     "metadata": {},
     "output_type": "execute_result"
    }
   ],
   "source": [
    "clf2=svm.SVC()\n",
    "clf2.fit(X_train2, y_train2)"
   ]
  },
  {
   "cell_type": "code",
   "execution_count": 23,
   "id": "0e4bb3d4",
   "metadata": {},
   "outputs": [
    {
     "name": "stdout",
     "output_type": "stream",
     "text": [
      "0.9916666666666667\n"
     ]
    }
   ],
   "source": [
    "y_pred2=clf2.predict(X_test2)\n",
    "print(accuracy_score(y_test2, y_pred2))"
   ]
  },
  {
   "cell_type": "code",
   "execution_count": 24,
   "id": "60efa8ad",
   "metadata": {},
   "outputs": [],
   "source": [
    "#学習済みモデルの保存\n",
    "import pickle\n",
    "\n",
    "with open(\"digits_svm.pkl\", \"wb\") as fp2:\n",
    "    pickle.dump(clf2, fp2)"
   ]
  },
  {
   "cell_type": "code",
   "execution_count": 25,
   "id": "cdb0dc58",
   "metadata": {},
   "outputs": [
    {
     "data": {
      "text/plain": [
       "0.9916666666666667"
      ]
     },
     "execution_count": 25,
     "metadata": {},
     "output_type": "execute_result"
    }
   ],
   "source": [
    "#保存した学習済みモデルを読み込み\n",
    "with open(\"digits_svm.pkl\", \"rb\") as fp2:\n",
    "    clf_svm=pickle.load(fp2)\n",
    "\n",
    "accuracy_score(y_test2, clf_svm.predict(X_test2))"
   ]
  },
  {
   "cell_type": "code",
   "execution_count": 26,
   "id": "23104c88",
   "metadata": {},
   "outputs": [
    {
     "data": {
      "text/plain": [
       "array([4, 1, 8, 7, 7, 0, 8, 1, 8, 9, 7, 1, 3, 0, 7, 1, 0, 5, 8, 2, 3, 7,\n",
       "       0, 5, 9, 4, 1, 1, 1, 2, 3, 1, 1, 3, 2, 3, 9, 1, 3, 5, 3, 8, 6, 1,\n",
       "       4, 8, 0, 1, 3, 4, 8, 8, 5, 8, 6, 8, 9, 9, 1, 2, 5, 2, 7, 9, 7, 4,\n",
       "       2, 6, 4, 3, 5, 9, 3, 6, 5, 1, 2, 7, 5, 4, 2, 2, 8, 9, 5, 6, 1, 5,\n",
       "       6, 7, 8, 9, 2, 9, 8, 3, 3, 8, 5, 1, 8, 6, 0, 2, 6, 7, 9, 6, 7, 7,\n",
       "       4, 1, 5, 1, 0, 4, 7, 3, 7, 3, 1, 3, 7, 8, 5, 8, 4, 7, 3, 5, 8, 0,\n",
       "       8, 7, 7, 4, 5, 3, 8, 2, 3, 1, 3, 4, 8, 8, 0, 2, 3, 0, 4, 3, 6, 5,\n",
       "       0, 3, 1, 7, 0, 4, 1, 8, 8, 6, 9, 0, 9, 2, 7, 1, 1, 5, 0, 8, 9, 4,\n",
       "       9, 1, 1, 3, 8, 7, 9, 1, 2, 3, 4, 2, 9, 9, 9, 3, 2, 1, 1, 1, 3, 4,\n",
       "       2, 7, 2, 3, 7, 6, 0, 1, 4, 5, 8, 0, 9, 3, 4, 2, 8, 8, 7, 4, 3, 3,\n",
       "       9, 2, 3, 9, 1, 2, 1, 3, 1, 7, 3, 2, 4, 9, 7, 4, 4, 9, 7, 5, 5, 6,\n",
       "       0, 7, 4, 6, 8, 2, 2, 5, 9, 9, 0, 4, 9, 1, 7, 4, 7, 6, 4, 8, 9, 7,\n",
       "       1, 6, 1, 1, 2, 2, 5, 8, 1, 3, 8, 9, 4, 5, 0, 4, 5, 9, 0, 1, 3, 2,\n",
       "       1, 3, 8, 8, 4, 8, 5, 2, 3, 9, 3, 3, 9, 9, 2, 5, 3, 2, 8, 1, 6, 0,\n",
       "       9, 4, 1, 8, 1, 0, 7, 5, 7, 3, 7, 8, 0, 3, 7, 0, 1, 8, 2, 5, 0, 4,\n",
       "       1, 8, 8, 0, 2, 2, 8, 2, 2, 3, 1, 0, 7, 1, 4, 6, 6, 3, 1, 1, 2, 3,\n",
       "       0, 2, 4, 5, 2, 7, 4, 6])"
      ]
     },
     "execution_count": 26,
     "metadata": {},
     "output_type": "execute_result"
    }
   ],
   "source": [
    "clf_svm.predict(X_test2)"
   ]
  },
  {
   "cell_type": "code",
   "execution_count": 29,
   "id": "45f695b7",
   "metadata": {},
   "outputs": [
    {
     "data": {
      "text/plain": [
       "array([[ 0.,  0.,  2., ...,  0.,  0.,  0.],\n",
       "       [ 0.,  0.,  0., ...,  8.,  0.,  0.],\n",
       "       [ 0.,  0.,  9., ...,  3.,  0.,  0.],\n",
       "       ...,\n",
       "       [ 0.,  7., 12., ...,  0.,  0.,  0.],\n",
       "       [ 0.,  0.,  3., ...,  0.,  0.,  0.],\n",
       "       [ 0.,  0.,  0., ..., 11.,  1.,  0.]])"
      ]
     },
     "execution_count": 29,
     "metadata": {},
     "output_type": "execute_result"
    }
   ],
   "source": [
    "X_test2"
   ]
  },
  {
   "cell_type": "code",
   "execution_count": null,
   "id": "0a2d0ca9",
   "metadata": {},
   "outputs": [],
   "source": []
  }
 ],
 "metadata": {
  "kernelspec": {
   "display_name": "Python 3 (ipykernel)",
   "language": "python",
   "name": "python3"
  },
  "language_info": {
   "codemirror_mode": {
    "name": "ipython",
    "version": 3
   },
   "file_extension": ".py",
   "mimetype": "text/x-python",
   "name": "python",
   "nbconvert_exporter": "python",
   "pygments_lexer": "ipython3",
   "version": "3.9.12"
  }
 },
 "nbformat": 4,
 "nbformat_minor": 5
}
