{
 "cells": [
  {
   "cell_type": "markdown",
   "id": "a5d5d882",
   "metadata": {},
   "source": [
    "## 自分が書いた手書き数字の認識"
   ]
  },
  {
   "cell_type": "code",
   "execution_count": 4,
   "id": "495e0045",
   "metadata": {},
   "outputs": [
    {
     "name": "stderr",
     "output_type": "stream",
     "text": [
      "[ WARN:0@91.026] global /Users/runner/work/opencv-python/opencv-python/opencv/modules/imgcodecs/src/loadsave.cpp (239) findDecoder imread_('hand2.png'): can't open/read file: check file path/integrity\n"
     ]
    },
    {
     "ename": "error",
     "evalue": "OpenCV(4.6.0) /Users/runner/work/opencv-python/opencv-python/opencv/modules/imgproc/src/color.cpp:182: error: (-215:Assertion failed) !_src.empty() in function 'cvtColor'\n",
     "output_type": "error",
     "traceback": [
      "\u001b[0;31m---------------------------------------------------------------------------\u001b[0m",
      "\u001b[0;31merror\u001b[0m                                     Traceback (most recent call last)",
      "Input \u001b[0;32mIn [4]\u001b[0m, in \u001b[0;36m<cell line: 34>\u001b[0;34m()\u001b[0m\n\u001b[1;32m     28\u001b[0m     \u001b[38;5;28;01mreturn\u001b[39;00m np\u001b[38;5;241m.\u001b[39margmax(result[\u001b[38;5;241m0\u001b[39m])\n\u001b[1;32m     32\u001b[0m \u001b[38;5;66;03m#画像ファイルを指定して実行\u001b[39;00m\n\u001b[1;32m     33\u001b[0m \u001b[38;5;66;03m# print(\"hand0.png = \", predict_digits(\"hand0.png\"))\u001b[39;00m\n\u001b[0;32m---> 34\u001b[0m \u001b[38;5;28mprint\u001b[39m(\u001b[38;5;124m\"\u001b[39m\u001b[38;5;124mhand2.png = \u001b[39m\u001b[38;5;124m\"\u001b[39m, \u001b[43mpredict_digits\u001b[49m\u001b[43m(\u001b[49m\u001b[38;5;124;43m\"\u001b[39;49m\u001b[38;5;124;43mhand2.png\u001b[39;49m\u001b[38;5;124;43m\"\u001b[39;49m\u001b[43m)\u001b[49m)\n",
      "Input \u001b[0;32mIn [4]\u001b[0m, in \u001b[0;36mpredict_digits\u001b[0;34m(filename)\u001b[0m\n\u001b[1;32m     12\u001b[0m     my_img\u001b[38;5;241m=\u001b[39mcv2\u001b[38;5;241m.\u001b[39mimread(filename)\n\u001b[1;32m     13\u001b[0m \u001b[38;5;66;03m#     kernel=np.ones((1,1), np.uint8)\u001b[39;00m\n\u001b[1;32m     14\u001b[0m \u001b[38;5;66;03m#     my_img=cv2.dilate(my_img, kernel, iterations=1)\u001b[39;00m\n\u001b[1;32m     15\u001b[0m \u001b[38;5;66;03m#     plt.imshow(my_img)\u001b[39;00m\n\u001b[1;32m     16\u001b[0m     \n\u001b[1;32m     17\u001b[0m     \u001b[38;5;66;03m#画像データを学習済みデータに合わせる\u001b[39;00m\n\u001b[0;32m---> 18\u001b[0m     my_img\u001b[38;5;241m=\u001b[39m\u001b[43mcv2\u001b[49m\u001b[38;5;241;43m.\u001b[39;49m\u001b[43mcvtColor\u001b[49m\u001b[43m(\u001b[49m\u001b[43mmy_img\u001b[49m\u001b[43m,\u001b[49m\u001b[43m \u001b[49m\u001b[43mcv2\u001b[49m\u001b[38;5;241;43m.\u001b[39;49m\u001b[43mCOLOR_BGR2GRAY\u001b[49m\u001b[43m)\u001b[49m\n\u001b[1;32m     19\u001b[0m     my_img\u001b[38;5;241m=\u001b[39mcv2\u001b[38;5;241m.\u001b[39mresize(my_img, (\u001b[38;5;241m8\u001b[39m,\u001b[38;5;241m8\u001b[39m))\n\u001b[1;32m     20\u001b[0m     my_img\u001b[38;5;241m=\u001b[39m\u001b[38;5;241m15\u001b[39m\u001b[38;5;241m-\u001b[39mmy_img\u001b[38;5;241m/\u001b[39m\u001b[38;5;241m16\u001b[39m\n",
      "\u001b[0;31merror\u001b[0m: OpenCV(4.6.0) /Users/runner/work/opencv-python/opencv-python/opencv/modules/imgproc/src/color.cpp:182: error: (-215:Assertion failed) !_src.empty() in function 'cvtColor'\n"
     ]
    }
   ],
   "source": [
    "import cv2\n",
    "import pickle\n",
    "import matplotlib.pyplot as plt\n",
    "import numpy as np\n",
    "\n",
    "def predict_digits(filename):\n",
    "    #学習済みモデルの読み込み\n",
    "    with open(\"digits_svm.pkl\", \"rb\") as fp:\n",
    "        clf=pickle.load(fp)\n",
    "    \n",
    "    #自分で書いた手書き数字の画像の読み込み\n",
    "    my_img=cv2.imread(filename)\n",
    "#     kernel=np.ones((1,1), np.uint8)\n",
    "#     my_img=cv2.dilate(my_img, kernel, iterations=1)\n",
    "#     plt.imshow(my_img)\n",
    "    \n",
    "    #画像データを学習済みデータに合わせる\n",
    "    my_img=cv2.cvtColor(my_img, cv2.COLOR_BGR2GRAY)\n",
    "    my_img=cv2.resize(my_img, (8,8))\n",
    "    my_img=15-my_img/16\n",
    "    plt.imshow(my_img)\n",
    "    \n",
    "    #二次元配列を一次元配列に変換\n",
    "    my_img=my_img.reshape((-1,64))\n",
    "    \n",
    "    #予測\n",
    "    result=clf.predict(my_img)\n",
    "    return np.argmax(result[0])\n",
    "\n",
    "    \n",
    "\n",
    "#画像ファイルを指定して実行\n",
    "# print(\"hand0.png = \", predict_digits(\"hand0.png\"))\n",
    "print(\"hand2.png = \", predict_digits(\"hand2.png\"))\n",
    "# print(\"hand3.png = \", predict_digits(\"hand3.png\"))\n",
    "# print(\"hand4.png = \", predict_digits(\"hand4.png\"))\n",
    "# print(\"hand5.png = \", predict_digits(\"hand5.png\"))\n",
    "# print(\"hand6.png = \", predict_digits(\"hand6.png\"))\n",
    "# print(\"hand7.png = \", predict_digits(\"hand7.png\"))\n",
    "# print(\"hand8.png = \", predict_digits(\"hand8.png\"))\n",
    "# print(\"hand9.png = \", predict_digits(\"hand9.png\"))"
   ]
  },
  {
   "cell_type": "code",
   "execution_count": null,
   "id": "8a5f3954",
   "metadata": {},
   "outputs": [],
   "source": []
  },
  {
   "cell_type": "code",
   "execution_count": null,
   "id": "44c13bc3",
   "metadata": {},
   "outputs": [],
   "source": []
  }
 ],
 "metadata": {
  "kernelspec": {
   "display_name": "Python 3 (ipykernel)",
   "language": "python",
   "name": "python3"
  },
  "language_info": {
   "codemirror_mode": {
    "name": "ipython",
    "version": 3
   },
   "file_extension": ".py",
   "mimetype": "text/x-python",
   "name": "python",
   "nbconvert_exporter": "python",
   "pygments_lexer": "ipython3",
   "version": "3.9.12"
  }
 },
 "nbformat": 4,
 "nbformat_minor": 5
}
