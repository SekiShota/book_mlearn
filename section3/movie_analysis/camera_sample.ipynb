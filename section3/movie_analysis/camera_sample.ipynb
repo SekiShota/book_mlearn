{
 "cells": [
  {
   "cell_type": "code",
   "execution_count": 7,
   "id": "725a11c0",
   "metadata": {},
   "outputs": [
    {
     "name": "stdout",
     "output_type": "stream",
     "text": [
      "None\n"
     ]
    },
    {
     "ename": "error",
     "evalue": "OpenCV(4.6.0) /Users/runner/work/opencv-python/opencv-python/opencv/modules/imgproc/src/resize.cpp:4052: error: (-215:Assertion failed) !ssize.empty() in function 'resize'\n",
     "output_type": "error",
     "traceback": [
      "\u001b[0;31m---------------------------------------------------------------------------\u001b[0m",
      "\u001b[0;31merror\u001b[0m                                     Traceback (most recent call last)",
      "Input \u001b[0;32mIn [7]\u001b[0m, in \u001b[0;36m<cell line: 9>\u001b[0;34m()\u001b[0m\n\u001b[1;32m     10\u001b[0m \u001b[38;5;28mprint\u001b[39m(frame)\n\u001b[1;32m     12\u001b[0m \u001b[38;5;66;03m#画像を縮小表示する\u001b[39;00m\n\u001b[0;32m---> 13\u001b[0m frame\u001b[38;5;241m=\u001b[39m\u001b[43mcv2\u001b[49m\u001b[38;5;241;43m.\u001b[39;49m\u001b[43mresize\u001b[49m\u001b[43m(\u001b[49m\u001b[43mframe\u001b[49m\u001b[43m,\u001b[49m\u001b[43m \u001b[49m\u001b[43m(\u001b[49m\u001b[38;5;241;43m640\u001b[39;49m\u001b[43m,\u001b[49m\u001b[38;5;241;43m480\u001b[39;49m\u001b[43m)\u001b[49m\u001b[43m)\u001b[49m\n\u001b[1;32m     14\u001b[0m \u001b[38;5;66;03m#ウィンドウに画像を出力\u001b[39;00m\n\u001b[1;32m     15\u001b[0m cv2\u001b[38;5;241m.\u001b[39mimshow(\u001b[38;5;124m'\u001b[39m\u001b[38;5;124mOpenCV Camera\u001b[39m\u001b[38;5;124m'\u001b[39m, frame)\n",
      "\u001b[0;31merror\u001b[0m: OpenCV(4.6.0) /Users/runner/work/opencv-python/opencv-python/opencv/modules/imgproc/src/resize.cpp:4052: error: (-215:Assertion failed) !ssize.empty() in function 'resize'\n"
     ]
    }
   ],
   "source": [
    "import cv2\n",
    "import numpy as np\n",
    "\n",
    "#webカメラから入力開始\n",
    "cap=cv2.VideoCapture(0)\n",
    "\n",
    "while True:\n",
    "    #カメラから画像を読み込む\n",
    "    _, frame=cap.read()\n",
    "    \n",
    "    #画像を縮小表示する\n",
    "    frame=cv2.resize(frame, (640,480))\n",
    "    #ウィンドウに画像を出力\n",
    "    cv2.imshow('OpenCV Camera', frame)\n",
    "    #ESCかEnterキーでループを抜ける\n",
    "    k=cv2.waitKey(1)\n",
    "    \n",
    "    if k==13 or k==27:\n",
    "        break\n",
    "\n",
    "#カメラを開放\n",
    "cap.release()\n",
    "#ウィンドウを閉じる\n",
    "cv2.destroyAllWindows()"
   ]
  },
  {
   "cell_type": "code",
   "execution_count": null,
   "id": "279c8acc",
   "metadata": {},
   "outputs": [],
   "source": []
  }
 ],
 "metadata": {
  "kernelspec": {
   "display_name": "Python 3 (ipykernel)",
   "language": "python",
   "name": "python3"
  },
  "language_info": {
   "codemirror_mode": {
    "name": "ipython",
    "version": 3
   },
   "file_extension": ".py",
   "mimetype": "text/x-python",
   "name": "python",
   "nbconvert_exporter": "python",
   "pygments_lexer": "ipython3",
   "version": "3.9.12"
  }
 },
 "nbformat": 4,
 "nbformat_minor": 5
}
