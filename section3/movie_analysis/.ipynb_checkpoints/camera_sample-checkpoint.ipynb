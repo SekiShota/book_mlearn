{
 "cells": [
  {
   "cell_type": "code",
   "execution_count": null,
   "id": "725a11c0",
   "metadata": {},
   "outputs": [],
   "source": [
    "import cv2\n",
    "import numpy as np\n",
    "\n",
    "#webカメラから入力開始\n",
    "cap=cv2.VideoCapture(0)\n",
    "\n",
    "while True:\n",
    "    #カメラから画像を読み込む\n",
    "    _, frame=cap.read()\n",
    "    \n",
    "    #画像を縮小表示する\n",
    "    frame=cv2.resize(frame, (640,480))\n",
    "    #ウィンドウに画像を出力\n",
    "    cv2.imshow('OpenCV Camera', frame)\n",
    "    #ESCかEnterキーでループを抜ける\n",
    "    k=cv2.waitKey(1)\n",
    "    \n",
    "    if k==13 or k==27:\n",
    "        break\n",
    "\n",
    "#カメラを開放\n",
    "cap.release()\n",
    "#ウィンドウを閉じる\n",
    "cv2.destroyAllWindows()"
   ]
  },
  {
   "cell_type": "code",
   "execution_count": 1,
   "id": "0e9a62d3",
   "metadata": {},
   "outputs": [],
   "source": [
    "import cv2"
   ]
  },
  {
   "cell_type": "code",
   "execution_count": 3,
   "id": "25fd4567",
   "metadata": {},
   "outputs": [],
   "source": [
    "?cv2.resize"
   ]
  },
  {
   "cell_type": "code",
   "execution_count": null,
   "id": "d0fe02a0",
   "metadata": {},
   "outputs": [],
   "source": []
  }
 ],
 "metadata": {
  "kernelspec": {
   "display_name": "Python 3 (ipykernel)",
   "language": "python",
   "name": "python3"
  },
  "language_info": {
   "codemirror_mode": {
    "name": "ipython",
    "version": 3
   },
   "file_extension": ".py",
   "mimetype": "text/x-python",
   "name": "python",
   "nbconvert_exporter": "python",
   "pygments_lexer": "ipython3",
   "version": "3.9.12"
  }
 },
 "nbformat": 4,
 "nbformat_minor": 5
}
