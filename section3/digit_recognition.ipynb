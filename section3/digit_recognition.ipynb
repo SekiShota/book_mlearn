{
 "cells": [
  {
   "cell_type": "markdown",
   "id": "c940896a",
   "metadata": {},
   "source": [
    "## 手書き文字認識 \n",
    "\n",
    "* CNNで学習、予測 \n",
    "* モデルを保存 \n",
    "* 実際の手書き文字を予測 \n",
    "\n",
    "\n"
   ]
  },
  {
   "cell_type": "code",
   "execution_count": 1,
   "id": "b5ef2e5f",
   "metadata": {},
   "outputs": [
    {
     "name": "stderr",
     "output_type": "stream",
     "text": [
      "2022-10-10 11:57:01.495388: I tensorflow/core/platform/cpu_feature_guard.cc:193] This TensorFlow binary is optimized with oneAPI Deep Neural Network Library (oneDNN) to use the following CPU instructions in performance-critical operations:  AVX2 FMA\n",
      "To enable them in other operations, rebuild TensorFlow with the appropriate compiler flags.\n"
     ]
    }
   ],
   "source": [
    "import numpy as np\n",
    "import pandas as pd\n",
    "import matplotlib.pyplot as plt\n",
    "import cv2\n",
    "\n",
    "from sklearn import datasets\n",
    "from sklearn.model_selection import train_test_split\n",
    "from sklearn.metrics import accuracy_score\n",
    "\n",
    "from tensorflow.keras import models, layers, callbacks\n",
    "from keras.utils import np_utils\n"
   ]
  },
  {
   "cell_type": "code",
   "execution_count": 2,
   "id": "e326ad4c",
   "metadata": {},
   "outputs": [
    {
     "data": {
      "image/png": "[encoded data removed]",
      "text/plain": [
       "<Figure size 432x288 with 15 Axes>"
      ]
     },
     "metadata": {
      "needs_background": "light"
     },
     "output_type": "display_data"
    }
   ],
   "source": [
    "#データの読み込み\n",
    "digits=datasets.load_digits()\n",
    "\n",
    "#データの確認\n",
    "for i in range(15):\n",
    "    plt.subplot(3,5,i+1)\n",
    "    plt.axis(\"off\")\n",
    "    plt.title(str(digits.target[i]))\n",
    "    plt.imshow(digits.images[i], cmap=\"gray\")\n",
    "    \n",
    "plt.show()"
   ]
  },
  {
   "cell_type": "code",
   "execution_count": 3,
   "id": "acdf700e",
   "metadata": {},
   "outputs": [
    {
     "name": "stdout",
     "output_type": "stream",
     "text": [
      "[[ 0.  0.  5. 13.  9.  1.  0.  0.]\n",
      " [ 0.  0. 13. 15. 10. 15.  5.  0.]\n",
      " [ 0.  3. 15.  2.  0. 11.  8.  0.]\n",
      " [ 0.  4. 12.  0.  0.  8.  8.  0.]\n",
      " [ 0.  5.  8.  0.  0.  9.  8.  0.]\n",
      " [ 0.  4. 11.  0.  1. 12.  7.  0.]\n",
      " [ 0.  2. 14.  5. 10. 12.  0.  0.]\n",
      " [ 0.  0.  6. 13. 10.  0.  0.  0.]]\n"
     ]
    }
   ],
   "source": [
    "#0は黒、16は白\n",
    "print(digits.images[0])"
   ]
  },
  {
   "cell_type": "code",
   "execution_count": 7,
   "id": "a9ca70ca",
   "metadata": {},
   "outputs": [],
   "source": [
    "#正規化する0-1\n",
    "# X=digits.images/16\n",
    "X=digits.images"
   ]
  },
  {
   "cell_type": "code",
   "execution_count": 8,
   "id": "cd141b6e",
   "metadata": {},
   "outputs": [],
   "source": [
    "#モデルで学習させる\n",
    "\n",
    "#データの用意\n",
    "#目的変数は質的変数なのでone-hotエンコーディングの必要がある\n",
    "X_data=X.reshape((-1,64))\n",
    "y_data=np_utils.to_categorical(digits.target)\n",
    "\n",
    "#学習用とテスト用に分割\n",
    "X_train, X_test, y_train, y_test=train_test_split(X_data, y_data, test_size=0.2, random_state=20221010)"
   ]
  },
  {
   "cell_type": "code",
   "execution_count": 9,
   "id": "b477cef0",
   "metadata": {},
   "outputs": [
    {
     "name": "stdout",
     "output_type": "stream",
     "text": [
      "Model: \"sequential_1\"\n",
      "_________________________________________________________________\n",
      " Layer (type)                Output Shape              Param #   \n",
      "=================================================================\n",
      " dense_3 (Dense)             (None, 64)                4160      \n",
      "                                                                 \n",
      " activation_3 (Activation)   (None, 64)                0         \n",
      "                                                                 \n",
      " dense_4 (Dense)             (None, 32)                2080      \n",
      "                                                                 \n",
      " activation_4 (Activation)   (None, 32)                0         \n",
      "                                                                 \n",
      " dropout_1 (Dropout)         (None, 32)                0         \n",
      "                                                                 \n",
      " dense_5 (Dense)             (None, 10)                330       \n",
      "                                                                 \n",
      " activation_5 (Activation)   (None, 10)                0         \n",
      "                                                                 \n",
      "=================================================================\n",
      "Total params: 6,570\n",
      "Trainable params: 6,570\n",
      "Non-trainable params: 0\n",
      "_________________________________________________________________\n"
     ]
    }
   ],
   "source": [
    "#アーキテクチャの構築\n",
    "#入力層64, 中間層16, 出力層10\n",
    "clf=models.Sequential()\n",
    "clf.add(layers.Dense(64, input_shape=(64,)))\n",
    "clf.add(layers.Activation('relu'))\n",
    "clf.add(layers.Dense(32, input_shape=(16,)))\n",
    "clf.add(layers.Activation('relu'))\n",
    "clf.add(layers.Dropout(0.25))\n",
    "clf.add(layers.Dense(10))\n",
    "clf.add(layers.Activation('softmax'))\n",
    "\n",
    "#コンパイル\n",
    "clf.compile(optimizer='adam', loss='categorical_crossentropy', metrics=['accuracy'])\n",
    "\n",
    "#early_stopping\n",
    "cb_es=callbacks.EarlyStopping(\n",
    "    monitor='loss',\n",
    "    patience=10,\n",
    "    restore_best_weights=True\n",
    ")\n",
    "\n",
    "clf.summary()"
   ]
  },
  {
   "cell_type": "code",
   "execution_count": 10,
   "id": "f18c45ab",
   "metadata": {
    "scrolled": true
   },
   "outputs": [
    {
     "name": "stdout",
     "output_type": "stream",
     "text": [
      "Epoch 1/100\n",
      "45/45 [==============================] - 1s 2ms/step - loss: 3.1885 - accuracy: 0.2575\n",
      "Epoch 2/100\n",
      "45/45 [==============================] - 0s 3ms/step - loss: 1.3336 - accuracy: 0.5233\n",
      "Epoch 3/100\n",
      "45/45 [==============================] - 0s 2ms/step - loss: 0.9454 - accuracy: 0.6778\n",
      "Epoch 4/100\n",
      "45/45 [==============================] - 0s 3ms/step - loss: 0.6831 - accuracy: 0.7787\n",
      "Epoch 5/100\n",
      "45/45 [==============================] - 0s 3ms/step - loss: 0.5560 - accuracy: 0.8058\n",
      "Epoch 6/100\n",
      "45/45 [==============================] - 0s 3ms/step - loss: 0.4500 - accuracy: 0.8483\n",
      "Epoch 7/100\n",
      "45/45 [==============================] - 0s 3ms/step - loss: 0.4064 - accuracy: 0.8594\n",
      "Epoch 8/100\n",
      "45/45 [==============================] - 0s 2ms/step - loss: 0.3225 - accuracy: 0.8970\n",
      "Epoch 9/100\n",
      "45/45 [==============================] - 0s 2ms/step - loss: 0.2719 - accuracy: 0.9186\n",
      "Epoch 10/100\n",
      "45/45 [==============================] - 0s 2ms/step - loss: 0.2605 - accuracy: 0.9095\n",
      "Epoch 11/100\n",
      "45/45 [==============================] - 0s 3ms/step - loss: 0.2140 - accuracy: 0.9290\n",
      "Epoch 12/100\n",
      "45/45 [==============================] - 0s 3ms/step - loss: 0.1944 - accuracy: 0.9374\n",
      "Epoch 13/100\n",
      "45/45 [==============================] - 0s 3ms/step - loss: 0.1794 - accuracy: 0.9408\n",
      "Epoch 14/100\n",
      "45/45 [==============================] - 0s 3ms/step - loss: 0.1649 - accuracy: 0.9478\n",
      "Epoch 15/100\n",
      "45/45 [==============================] - 0s 3ms/step - loss: 0.1498 - accuracy: 0.9443\n",
      "Epoch 16/100\n",
      "45/45 [==============================] - 0s 2ms/step - loss: 0.1351 - accuracy: 0.9562\n",
      "Epoch 17/100\n",
      "45/45 [==============================] - 0s 2ms/step - loss: 0.1428 - accuracy: 0.9457\n",
      "Epoch 18/100\n",
      "45/45 [==============================] - 0s 3ms/step - loss: 0.1089 - accuracy: 0.9631\n",
      "Epoch 19/100\n",
      "45/45 [==============================] - 0s 3ms/step - loss: 0.0998 - accuracy: 0.9638\n",
      "Epoch 20/100\n",
      "45/45 [==============================] - 0s 3ms/step - loss: 0.1132 - accuracy: 0.9631\n",
      "Epoch 21/100\n",
      "45/45 [==============================] - 0s 3ms/step - loss: 0.0977 - accuracy: 0.9736\n",
      "Epoch 22/100\n",
      "45/45 [==============================] - 0s 3ms/step - loss: 0.0872 - accuracy: 0.9687\n",
      "Epoch 23/100\n",
      "45/45 [==============================] - 0s 3ms/step - loss: 0.0965 - accuracy: 0.9652\n",
      "Epoch 24/100\n",
      "45/45 [==============================] - 0s 3ms/step - loss: 0.0935 - accuracy: 0.9659\n",
      "Epoch 25/100\n",
      "45/45 [==============================] - 0s 3ms/step - loss: 0.0758 - accuracy: 0.9784\n",
      "Epoch 26/100\n",
      "45/45 [==============================] - 0s 2ms/step - loss: 0.0845 - accuracy: 0.9694\n",
      "Epoch 27/100\n",
      "45/45 [==============================] - 0s 2ms/step - loss: 0.0767 - accuracy: 0.9749\n",
      "Epoch 28/100\n",
      "45/45 [==============================] - 0s 3ms/step - loss: 0.0667 - accuracy: 0.9798\n",
      "Epoch 29/100\n",
      "45/45 [==============================] - 0s 3ms/step - loss: 0.0686 - accuracy: 0.9812\n",
      "Epoch 30/100\n",
      "45/45 [==============================] - 0s 3ms/step - loss: 0.0604 - accuracy: 0.9805\n",
      "Epoch 31/100\n",
      "45/45 [==============================] - 0s 3ms/step - loss: 0.0612 - accuracy: 0.9798\n",
      "Epoch 32/100\n",
      "45/45 [==============================] - 0s 3ms/step - loss: 0.0538 - accuracy: 0.9875\n",
      "Epoch 33/100\n",
      "45/45 [==============================] - 0s 3ms/step - loss: 0.0620 - accuracy: 0.9805\n",
      "Epoch 34/100\n",
      "45/45 [==============================] - 0s 2ms/step - loss: 0.0558 - accuracy: 0.9812\n",
      "Epoch 35/100\n",
      "45/45 [==============================] - 0s 2ms/step - loss: 0.0511 - accuracy: 0.9833\n",
      "Epoch 36/100\n",
      "45/45 [==============================] - 0s 3ms/step - loss: 0.0623 - accuracy: 0.9798\n",
      "Epoch 37/100\n",
      "45/45 [==============================] - 0s 3ms/step - loss: 0.0567 - accuracy: 0.9840\n",
      "Epoch 38/100\n",
      "45/45 [==============================] - 0s 3ms/step - loss: 0.0521 - accuracy: 0.9819\n",
      "Epoch 39/100\n",
      "45/45 [==============================] - 0s 3ms/step - loss: 0.0457 - accuracy: 0.9854\n",
      "Epoch 40/100\n",
      "45/45 [==============================] - 0s 3ms/step - loss: 0.0454 - accuracy: 0.9882\n",
      "Epoch 41/100\n",
      "45/45 [==============================] - 0s 3ms/step - loss: 0.0395 - accuracy: 0.9882\n",
      "Epoch 42/100\n",
      "45/45 [==============================] - 0s 3ms/step - loss: 0.0384 - accuracy: 0.9875\n",
      "Epoch 43/100\n",
      "45/45 [==============================] - 0s 9ms/step - loss: 0.0383 - accuracy: 0.9854\n",
      "Epoch 44/100\n",
      "45/45 [==============================] - 0s 3ms/step - loss: 0.0396 - accuracy: 0.9861\n",
      "Epoch 45/100\n",
      "45/45 [==============================] - 0s 3ms/step - loss: 0.0332 - accuracy: 0.9896\n",
      "Epoch 46/100\n",
      "45/45 [==============================] - 0s 3ms/step - loss: 0.0426 - accuracy: 0.9826\n",
      "Epoch 47/100\n",
      "45/45 [==============================] - 0s 3ms/step - loss: 0.0328 - accuracy: 0.9882\n",
      "Epoch 48/100\n",
      "45/45 [==============================] - 0s 3ms/step - loss: 0.0289 - accuracy: 0.9916\n",
      "Epoch 49/100\n",
      "45/45 [==============================] - 0s 3ms/step - loss: 0.0349 - accuracy: 0.9889\n",
      "Epoch 50/100\n",
      "45/45 [==============================] - 0s 3ms/step - loss: 0.0293 - accuracy: 0.9923\n",
      "Epoch 51/100\n",
      "45/45 [==============================] - 0s 3ms/step - loss: 0.0367 - accuracy: 0.9868\n",
      "Epoch 52/100\n",
      "45/45 [==============================] - 0s 3ms/step - loss: 0.0323 - accuracy: 0.9861\n",
      "Epoch 53/100\n",
      "45/45 [==============================] - 0s 3ms/step - loss: 0.0214 - accuracy: 0.9965\n",
      "Epoch 54/100\n",
      "45/45 [==============================] - 0s 2ms/step - loss: 0.0297 - accuracy: 0.9903\n",
      "Epoch 55/100\n",
      "45/45 [==============================] - 0s 3ms/step - loss: 0.0371 - accuracy: 0.9903\n",
      "Epoch 56/100\n",
      "45/45 [==============================] - 0s 4ms/step - loss: 0.0258 - accuracy: 0.9937\n",
      "Epoch 57/100\n",
      "45/45 [==============================] - 0s 3ms/step - loss: 0.0264 - accuracy: 0.9916\n",
      "Epoch 58/100\n",
      "45/45 [==============================] - 0s 3ms/step - loss: 0.0268 - accuracy: 0.9923\n",
      "Epoch 59/100\n",
      "45/45 [==============================] - 0s 3ms/step - loss: 0.0268 - accuracy: 0.9923\n",
      "Epoch 60/100\n",
      "45/45 [==============================] - 0s 3ms/step - loss: 0.0286 - accuracy: 0.9889\n",
      "Epoch 61/100\n",
      "45/45 [==============================] - 0s 3ms/step - loss: 0.0347 - accuracy: 0.9896\n",
      "Epoch 62/100\n",
      "45/45 [==============================] - 0s 3ms/step - loss: 0.0210 - accuracy: 0.9965\n",
      "Epoch 63/100\n",
      "45/45 [==============================] - 0s 3ms/step - loss: 0.0237 - accuracy: 0.9944\n",
      "Epoch 64/100\n",
      "45/45 [==============================] - 0s 3ms/step - loss: 0.0245 - accuracy: 0.9930\n",
      "Epoch 65/100\n",
      "45/45 [==============================] - 0s 3ms/step - loss: 0.0174 - accuracy: 0.9944\n",
      "Epoch 66/100\n",
      "45/45 [==============================] - 0s 3ms/step - loss: 0.0139 - accuracy: 0.9965\n",
      "Epoch 67/100\n",
      "45/45 [==============================] - 0s 2ms/step - loss: 0.0220 - accuracy: 0.9923\n",
      "Epoch 68/100\n",
      "45/45 [==============================] - 0s 3ms/step - loss: 0.0279 - accuracy: 0.9896\n",
      "Epoch 69/100\n",
      "45/45 [==============================] - 0s 3ms/step - loss: 0.0250 - accuracy: 0.9930\n",
      "Epoch 70/100\n",
      "45/45 [==============================] - 0s 3ms/step - loss: 0.0228 - accuracy: 0.9944\n",
      "Epoch 71/100\n",
      "45/45 [==============================] - 0s 3ms/step - loss: 0.0187 - accuracy: 0.9930\n",
      "Epoch 72/100\n",
      "45/45 [==============================] - 0s 3ms/step - loss: 0.0197 - accuracy: 0.9951\n",
      "Epoch 73/100\n",
      "45/45 [==============================] - 0s 3ms/step - loss: 0.0210 - accuracy: 0.9923\n",
      "Epoch 74/100\n",
      "45/45 [==============================] - 0s 2ms/step - loss: 0.0206 - accuracy: 0.9944\n",
      "Epoch 75/100\n",
      "45/45 [==============================] - 0s 3ms/step - loss: 0.0196 - accuracy: 0.9958\n",
      "Epoch 76/100\n",
      "45/45 [==============================] - 0s 3ms/step - loss: 0.0198 - accuracy: 0.9944\n"
     ]
    }
   ],
   "source": [
    "#学習\n",
    "history=clf.fit(X_train, y_train, epochs=100, verbose=1,callbacks=cb_es)"
   ]
  },
  {
   "cell_type": "code",
   "execution_count": 11,
   "id": "209aaf3a",
   "metadata": {},
   "outputs": [
    {
     "name": "stdout",
     "output_type": "stream",
     "text": [
      "損失： 0.05262448638677597\n",
      "正解率： 0.9777777791023254\n"
     ]
    }
   ],
   "source": [
    "loss, accuracy=clf.evaluate(X_test, y_test, verbose=0)\n",
    "print('損失：',loss)\n",
    "print('正解率：', accuracy)"
   ]
  },
  {
   "cell_type": "code",
   "execution_count": 12,
   "id": "285b54a5",
   "metadata": {},
   "outputs": [
    {
     "data": {
      "image/png": "[encoded data removed]",
      "text/plain": [
       "<Figure size 432x288 with 1 Axes>"
      ]
     },
     "metadata": {
      "needs_background": "light"
     },
     "output_type": "display_data"
    }
   ],
   "source": [
    "plt.plot(history.history['accuracy'])\n",
    "plt.plot(history.history['loss'])\n",
    "plt.ylim(0.0, 1.1)\n",
    "\n",
    "plt.show()"
   ]
  },
  {
   "cell_type": "code",
   "execution_count": 13,
   "id": "b3c76d98",
   "metadata": {},
   "outputs": [
    {
     "name": "stdout",
     "output_type": "stream",
     "text": [
      "INFO:tensorflow:Assets written to: ram://025897e4-4382-49dd-9ad7-b4f72d5843fb/assets\n"
     ]
    }
   ],
   "source": [
    "#学習済みモデルの保存\n",
    "import pickle\n",
    "with open(\"digits.pkl\", \"wb\") as fp:\n",
    "    pickle.dump(clf, fp)"
   ]
  },
  {
   "cell_type": "code",
   "execution_count": 14,
   "id": "d887fff9",
   "metadata": {},
   "outputs": [
    {
     "name": "stdout",
     "output_type": "stream",
     "text": [
      "損失： 0.05262448638677597\n",
      "正解率： 0.9777777791023254\n"
     ]
    }
   ],
   "source": [
    "#学習済みモデルの読み込み\n",
    "with open(\"digits.pkl\", \"rb\") as fp:\n",
    "    clf1=pickle.load(fp)\n",
    "\n",
    "loss, accuracy=clf1.evaluate(X_test, y_test, verbose=0)\n",
    "print('損失：',loss)\n",
    "print('正解率：', accuracy)"
   ]
  },
  {
   "cell_type": "code",
   "execution_count": null,
   "id": "e6b23272",
   "metadata": {},
   "outputs": [],
   "source": []
  },
  {
   "cell_type": "code",
   "execution_count": null,
   "id": "f31944d3",
   "metadata": {},
   "outputs": [],
   "source": []
  }
 ],
 "metadata": {
  "kernelspec": {
   "display_name": "Python 3 (ipykernel)",
   "language": "python",
   "name": "python3"
  },
  "language_info": {
   "codemirror_mode": {
    "name": "ipython",
    "version": 3
   },
   "file_extension": ".py",
   "mimetype": "text/x-python",
   "name": "python",
   "nbconvert_exporter": "python",
   "pygments_lexer": "ipython3",
   "version": "3.9.12"
  }
 },
 "nbformat": 4,
 "nbformat_minor": 5
}
