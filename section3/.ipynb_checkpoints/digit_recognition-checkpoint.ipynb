{
 "cells": [
  {
   "cell_type": "markdown",
   "id": "c940896a",
   "metadata": {},
   "source": [
    "## 手書き文字認識 \n",
    "\n",
    "* CNNで学習、予測 \n",
    "* モデルを保存 \n",
    "* 実際の手書き文字を予測 \n",
    "\n",
    "\n"
   ]
  },
  {
   "cell_type": "code",
   "execution_count": 37,
   "id": "b5ef2e5f",
   "metadata": {},
   "outputs": [],
   "source": [
    "import numpy as np\n",
    "import pandas as pd\n",
    "import matplotlib.pyplot as plt\n",
    "import cv2\n",
    "\n",
    "from sklearn import datasets\n",
    "from sklearn.model_selection import train_test_split\n",
    "from sklearn.metrics import accuracy_score\n",
    "\n",
    "from tensorflow.keras import models, layers, callbacks\n",
    "from keras.utils import np_utils\n"
   ]
  },
  {
   "cell_type": "code",
   "execution_count": 3,
   "id": "e326ad4c",
   "metadata": {},
   "outputs": [
    {
     "data": {
      "image/png": "[encoded data removed]",
      "text/plain": [
       "<Figure size 432x288 with 15 Axes>"
      ]
     },
     "metadata": {
      "needs_background": "light"
     },
     "output_type": "display_data"
    }
   ],
   "source": [
    "#データの読み込み\n",
    "digits=datasets.load_digits()\n",
    "\n",
    "#データの確認\n",
    "for i in range(15):\n",
    "    plt.subplot(3,5,i+1)\n",
    "    plt.axis(\"off\")\n",
    "    plt.title(str(digits.target[i]))\n",
    "    plt.imshow(digits.images[i], cmap=\"gray\")\n",
    "    \n",
    "plt.show()"
   ]
  },
  {
   "cell_type": "code",
   "execution_count": 6,
   "id": "acdf700e",
   "metadata": {},
   "outputs": [
    {
     "name": "stdout",
     "output_type": "stream",
     "text": [
      "[[ 0.  0.  5. 13.  9.  1.  0.  0.]\n",
      " [ 0.  0. 13. 15. 10. 15.  5.  0.]\n",
      " [ 0.  3. 15.  2.  0. 11.  8.  0.]\n",
      " [ 0.  4. 12.  0.  0.  8.  8.  0.]\n",
      " [ 0.  5.  8.  0.  0.  9.  8.  0.]\n",
      " [ 0.  4. 11.  0.  1. 12.  7.  0.]\n",
      " [ 0.  2. 14.  5. 10. 12.  0.  0.]\n",
      " [ 0.  0.  6. 13. 10.  0.  0.  0.]]\n"
     ]
    }
   ],
   "source": [
    "#0は黒、16は白\n",
    "print(digits.images[0])"
   ]
  },
  {
   "cell_type": "code",
   "execution_count": 8,
   "id": "a9ca70ca",
   "metadata": {},
   "outputs": [],
   "source": [
    "#正規化する0-1\n",
    "X=digits.images/16"
   ]
  },
  {
   "cell_type": "code",
   "execution_count": 38,
   "id": "cd141b6e",
   "metadata": {},
   "outputs": [],
   "source": [
    "#モデルで学習させる\n",
    "\n",
    "#データの用意\n",
    "#目的変数は質的変数なのでone-hotエンコーディングの必要がある\n",
    "X_data=X.reshape((-1,64))\n",
    "y_data=np_utils.to_categorical(digits.target)\n",
    "\n",
    "#学習用とテスト用に分割\n",
    "X_train, X_test, y_train, y_test=train_test_split(X_data, y_data, test_size=0.2, random_state=20221010)"
   ]
  },
  {
   "cell_type": "code",
   "execution_count": 92,
   "id": "b477cef0",
   "metadata": {},
   "outputs": [
    {
     "name": "stdout",
     "output_type": "stream",
     "text": [
      "Model: \"sequential_25\"\n",
      "_________________________________________________________________\n",
      " Layer (type)                Output Shape              Param #   \n",
      "=================================================================\n",
      " dense_59 (Dense)            (None, 64)                4160      \n",
      "                                                                 \n",
      " activation_58 (Activation)  (None, 64)                0         \n",
      "                                                                 \n",
      " dense_60 (Dense)            (None, 32)                2080      \n",
      "                                                                 \n",
      " activation_59 (Activation)  (None, 32)                0         \n",
      "                                                                 \n",
      " dropout_11 (Dropout)        (None, 32)                0         \n",
      "                                                                 \n",
      " dense_61 (Dense)            (None, 10)                330       \n",
      "                                                                 \n",
      " activation_60 (Activation)  (None, 10)                0         \n",
      "                                                                 \n",
      "=================================================================\n",
      "Total params: 6,570\n",
      "Trainable params: 6,570\n",
      "Non-trainable params: 0\n",
      "_________________________________________________________________\n"
     ]
    }
   ],
   "source": [
    "#アーキテクチャの構築\n",
    "#入力層64, 中間層16, 出力層10\n",
    "clf=models.Sequential()\n",
    "clf.add(layers.Dense(64, input_shape=(64,)))\n",
    "clf.add(layers.Activation('relu'))\n",
    "clf.add(layers.Dense(32, input_shape=(16,)))\n",
    "clf.add(layers.Activation('relu'))\n",
    "clf.add(layers.Dropout(0.25))\n",
    "clf.add(layers.Dense(10))\n",
    "clf.add(layers.Activation('softmax'))\n",
    "\n",
    "#コンパイル\n",
    "clf.compile(optimizer='adam', loss='categorical_crossentropy', metrics=['accuracy'])\n",
    "\n",
    "#early_stopping\n",
    "cb_es=callbacks.EarlyStopping(\n",
    "    monitor='loss',\n",
    "    patience=10,\n",
    "    restore_best_weights=True\n",
    ")\n",
    "\n",
    "clf.summary()"
   ]
  },
  {
   "cell_type": "code",
   "execution_count": 93,
   "id": "f18c45ab",
   "metadata": {
    "scrolled": true
   },
   "outputs": [
    {
     "name": "stdout",
     "output_type": "stream",
     "text": [
      "Epoch 1/100\n",
      "45/45 [==============================] - 1s 3ms/step - loss: 2.0868 - accuracy: 0.2860\n",
      "Epoch 2/100\n",
      "45/45 [==============================] - 0s 3ms/step - loss: 1.4756 - accuracy: 0.6228\n",
      "Epoch 3/100\n",
      "45/45 [==============================] - 0s 3ms/step - loss: 1.0001 - accuracy: 0.7397\n",
      "Epoch 4/100\n",
      "45/45 [==============================] - 0s 3ms/step - loss: 0.7295 - accuracy: 0.7898\n",
      "Epoch 5/100\n",
      "45/45 [==============================] - 0s 3ms/step - loss: 0.5628 - accuracy: 0.8413\n",
      "Epoch 6/100\n",
      "45/45 [==============================] - 0s 3ms/step - loss: 0.4951 - accuracy: 0.8622\n",
      "Epoch 7/100\n",
      "45/45 [==============================] - 0s 2ms/step - loss: 0.4166 - accuracy: 0.8768\n",
      "Epoch 8/100\n",
      "45/45 [==============================] - 0s 2ms/step - loss: 0.3688 - accuracy: 0.8956\n",
      "Epoch 9/100\n",
      "45/45 [==============================] - 0s 3ms/step - loss: 0.3363 - accuracy: 0.9047\n",
      "Epoch 10/100\n",
      "45/45 [==============================] - 0s 2ms/step - loss: 0.3232 - accuracy: 0.9095\n",
      "Epoch 11/100\n",
      "45/45 [==============================] - 0s 3ms/step - loss: 0.2776 - accuracy: 0.9207\n",
      "Epoch 12/100\n",
      "45/45 [==============================] - 0s 3ms/step - loss: 0.2514 - accuracy: 0.9304\n",
      "Epoch 13/100\n",
      "45/45 [==============================] - 0s 3ms/step - loss: 0.2310 - accuracy: 0.9325\n",
      "Epoch 14/100\n",
      "45/45 [==============================] - 0s 2ms/step - loss: 0.2269 - accuracy: 0.9395\n",
      "Epoch 15/100\n",
      "45/45 [==============================] - 0s 2ms/step - loss: 0.2079 - accuracy: 0.9402\n",
      "Epoch 16/100\n",
      "45/45 [==============================] - 0s 2ms/step - loss: 0.2093 - accuracy: 0.9353\n",
      "Epoch 17/100\n",
      "45/45 [==============================] - 0s 2ms/step - loss: 0.2011 - accuracy: 0.9450\n",
      "Epoch 18/100\n",
      "45/45 [==============================] - 0s 4ms/step - loss: 0.1796 - accuracy: 0.9443\n",
      "Epoch 19/100\n",
      "45/45 [==============================] - 0s 3ms/step - loss: 0.1841 - accuracy: 0.9436\n",
      "Epoch 20/100\n",
      "45/45 [==============================] - 0s 3ms/step - loss: 0.1625 - accuracy: 0.9499\n",
      "Epoch 21/100\n",
      "45/45 [==============================] - 0s 3ms/step - loss: 0.1480 - accuracy: 0.9562\n",
      "Epoch 22/100\n",
      "45/45 [==============================] - 0s 3ms/step - loss: 0.1384 - accuracy: 0.9638\n",
      "Epoch 23/100\n",
      "45/45 [==============================] - 0s 3ms/step - loss: 0.1537 - accuracy: 0.9562\n",
      "Epoch 24/100\n",
      "45/45 [==============================] - 0s 3ms/step - loss: 0.1340 - accuracy: 0.9589\n",
      "Epoch 25/100\n",
      "45/45 [==============================] - 0s 2ms/step - loss: 0.1241 - accuracy: 0.9624\n",
      "Epoch 26/100\n",
      "45/45 [==============================] - 0s 3ms/step - loss: 0.1125 - accuracy: 0.9715\n",
      "Epoch 27/100\n",
      "45/45 [==============================] - 0s 3ms/step - loss: 0.1231 - accuracy: 0.9638\n",
      "Epoch 28/100\n",
      "45/45 [==============================] - 0s 3ms/step - loss: 0.1084 - accuracy: 0.9701\n",
      "Epoch 29/100\n",
      "45/45 [==============================] - 0s 3ms/step - loss: 0.1007 - accuracy: 0.9708\n",
      "Epoch 30/100\n",
      "45/45 [==============================] - 0s 3ms/step - loss: 0.1072 - accuracy: 0.9680\n",
      "Epoch 31/100\n",
      "45/45 [==============================] - 0s 3ms/step - loss: 0.1004 - accuracy: 0.9659\n",
      "Epoch 32/100\n",
      "45/45 [==============================] - 0s 3ms/step - loss: 0.1024 - accuracy: 0.9652\n",
      "Epoch 33/100\n",
      "45/45 [==============================] - 0s 3ms/step - loss: 0.0950 - accuracy: 0.9701\n",
      "Epoch 34/100\n",
      "45/45 [==============================] - 0s 3ms/step - loss: 0.0994 - accuracy: 0.9694\n",
      "Epoch 35/100\n",
      "45/45 [==============================] - 0s 3ms/step - loss: 0.0911 - accuracy: 0.9770\n",
      "Epoch 36/100\n",
      "45/45 [==============================] - 0s 2ms/step - loss: 0.0828 - accuracy: 0.9763\n",
      "Epoch 37/100\n",
      "45/45 [==============================] - 0s 2ms/step - loss: 0.0846 - accuracy: 0.9819\n",
      "Epoch 38/100\n",
      "45/45 [==============================] - 0s 3ms/step - loss: 0.0908 - accuracy: 0.9743\n",
      "Epoch 39/100\n",
      "45/45 [==============================] - 0s 3ms/step - loss: 0.0853 - accuracy: 0.9756\n",
      "Epoch 40/100\n",
      "45/45 [==============================] - 0s 3ms/step - loss: 0.0877 - accuracy: 0.9722\n",
      "Epoch 41/100\n",
      "45/45 [==============================] - 0s 3ms/step - loss: 0.0802 - accuracy: 0.9784\n",
      "Epoch 42/100\n",
      "45/45 [==============================] - 0s 3ms/step - loss: 0.0727 - accuracy: 0.9812\n",
      "Epoch 43/100\n",
      "45/45 [==============================] - 0s 3ms/step - loss: 0.0727 - accuracy: 0.9763\n",
      "Epoch 44/100\n",
      "45/45 [==============================] - 0s 3ms/step - loss: 0.0672 - accuracy: 0.9791\n",
      "Epoch 45/100\n",
      "45/45 [==============================] - 0s 3ms/step - loss: 0.0658 - accuracy: 0.9819\n",
      "Epoch 46/100\n",
      "45/45 [==============================] - 0s 3ms/step - loss: 0.0709 - accuracy: 0.9777\n",
      "Epoch 47/100\n",
      "45/45 [==============================] - 0s 2ms/step - loss: 0.0645 - accuracy: 0.9756\n",
      "Epoch 48/100\n",
      "45/45 [==============================] - 0s 3ms/step - loss: 0.0632 - accuracy: 0.9812\n",
      "Epoch 49/100\n",
      "45/45 [==============================] - 0s 3ms/step - loss: 0.0645 - accuracy: 0.9826\n",
      "Epoch 50/100\n",
      "45/45 [==============================] - 0s 3ms/step - loss: 0.0608 - accuracy: 0.9812\n",
      "Epoch 51/100\n",
      "45/45 [==============================] - 0s 3ms/step - loss: 0.0709 - accuracy: 0.9784\n",
      "Epoch 52/100\n",
      "45/45 [==============================] - 0s 3ms/step - loss: 0.0562 - accuracy: 0.9868\n",
      "Epoch 53/100\n",
      "45/45 [==============================] - 0s 3ms/step - loss: 0.0550 - accuracy: 0.9854\n",
      "Epoch 54/100\n",
      "45/45 [==============================] - 0s 2ms/step - loss: 0.0582 - accuracy: 0.9833\n",
      "Epoch 55/100\n",
      "45/45 [==============================] - 0s 3ms/step - loss: 0.0522 - accuracy: 0.9826\n",
      "Epoch 56/100\n",
      "45/45 [==============================] - 0s 3ms/step - loss: 0.0611 - accuracy: 0.9812\n",
      "Epoch 57/100\n",
      "45/45 [==============================] - 0s 3ms/step - loss: 0.0507 - accuracy: 0.9854\n",
      "Epoch 58/100\n",
      "45/45 [==============================] - 0s 3ms/step - loss: 0.0452 - accuracy: 0.9868\n",
      "Epoch 59/100\n",
      "45/45 [==============================] - 0s 3ms/step - loss: 0.0416 - accuracy: 0.9910\n",
      "Epoch 60/100\n",
      "45/45 [==============================] - 0s 4ms/step - loss: 0.0506 - accuracy: 0.9840\n",
      "Epoch 61/100\n",
      "45/45 [==============================] - 0s 3ms/step - loss: 0.0501 - accuracy: 0.9861\n",
      "Epoch 62/100\n",
      "45/45 [==============================] - 0s 3ms/step - loss: 0.0476 - accuracy: 0.9875\n",
      "Epoch 63/100\n",
      "45/45 [==============================] - 0s 3ms/step - loss: 0.0501 - accuracy: 0.9861\n",
      "Epoch 64/100\n",
      "45/45 [==============================] - 0s 3ms/step - loss: 0.0376 - accuracy: 0.9930\n",
      "Epoch 65/100\n",
      "45/45 [==============================] - 0s 3ms/step - loss: 0.0465 - accuracy: 0.9889\n",
      "Epoch 66/100\n",
      "45/45 [==============================] - 0s 3ms/step - loss: 0.0430 - accuracy: 0.9882\n",
      "Epoch 67/100\n",
      "45/45 [==============================] - 0s 3ms/step - loss: 0.0464 - accuracy: 0.9882\n",
      "Epoch 68/100\n",
      "45/45 [==============================] - 0s 3ms/step - loss: 0.0398 - accuracy: 0.9889\n",
      "Epoch 69/100\n",
      "45/45 [==============================] - 0s 3ms/step - loss: 0.0337 - accuracy: 0.9910\n",
      "Epoch 70/100\n",
      "45/45 [==============================] - 0s 3ms/step - loss: 0.0392 - accuracy: 0.9882\n",
      "Epoch 71/100\n",
      "45/45 [==============================] - 0s 3ms/step - loss: 0.0409 - accuracy: 0.9889\n",
      "Epoch 72/100\n",
      "45/45 [==============================] - 0s 2ms/step - loss: 0.0393 - accuracy: 0.9889\n",
      "Epoch 73/100\n",
      "45/45 [==============================] - 0s 3ms/step - loss: 0.0428 - accuracy: 0.9882\n",
      "Epoch 74/100\n",
      "45/45 [==============================] - 0s 2ms/step - loss: 0.0271 - accuracy: 0.9951\n",
      "Epoch 75/100\n",
      "45/45 [==============================] - 0s 2ms/step - loss: 0.0354 - accuracy: 0.9882\n",
      "Epoch 76/100\n",
      "45/45 [==============================] - 0s 3ms/step - loss: 0.0356 - accuracy: 0.9916\n",
      "Epoch 77/100\n",
      "45/45 [==============================] - 0s 3ms/step - loss: 0.0367 - accuracy: 0.9882\n",
      "Epoch 78/100\n",
      "45/45 [==============================] - 0s 3ms/step - loss: 0.0381 - accuracy: 0.9923\n",
      "Epoch 79/100\n",
      "45/45 [==============================] - 0s 3ms/step - loss: 0.0403 - accuracy: 0.9896\n",
      "Epoch 80/100\n",
      "45/45 [==============================] - 0s 3ms/step - loss: 0.0342 - accuracy: 0.9903\n",
      "Epoch 81/100\n",
      "45/45 [==============================] - 0s 3ms/step - loss: 0.0280 - accuracy: 0.9923\n",
      "Epoch 82/100\n",
      "45/45 [==============================] - 0s 2ms/step - loss: 0.0298 - accuracy: 0.9944\n",
      "Epoch 83/100\n"
     ]
    },
    {
     "name": "stdout",
     "output_type": "stream",
     "text": [
      "45/45 [==============================] - 0s 3ms/step - loss: 0.0288 - accuracy: 0.9923\n",
      "Epoch 84/100\n",
      "45/45 [==============================] - 0s 3ms/step - loss: 0.0304 - accuracy: 0.9930\n"
     ]
    }
   ],
   "source": [
    "#学習\n",
    "history=clf.fit(X_train, y_train, epochs=100, verbose=1,callbacks=cb_es)"
   ]
  },
  {
   "cell_type": "code",
   "execution_count": 94,
   "id": "209aaf3a",
   "metadata": {},
   "outputs": [
    {
     "name": "stdout",
     "output_type": "stream",
     "text": [
      "損失： 0.06150422245264053\n",
      "正解率： 0.9833333492279053\n"
     ]
    }
   ],
   "source": [
    "loss, accuracy=clf.evaluate(X_test, y_test, verbose=0)\n",
    "print('損失：',loss)\n",
    "print('正解率：', accuracy)"
   ]
  },
  {
   "cell_type": "code",
   "execution_count": 100,
   "id": "285b54a5",
   "metadata": {},
   "outputs": [
    {
     "data": {
      "image/png": "[encoded data removed]",
      "text/plain": [
       "<Figure size 432x288 with 1 Axes>"
      ]
     },
     "metadata": {
      "needs_background": "light"
     },
     "output_type": "display_data"
    }
   ],
   "source": [
    "plt.plot(history.history['accuracy'])\n",
    "plt.plot(history.history['loss'])\n",
    "plt.ylim(0.0, 1.1)\n",
    "\n",
    "plt.show()"
   ]
  },
  {
   "cell_type": "code",
   "execution_count": 109,
   "id": "b3c76d98",
   "metadata": {},
   "outputs": [
    {
     "name": "stdout",
     "output_type": "stream",
     "text": [
      "INFO:tensorflow:Assets written to: ram://31e3926b-7f7d-4c7b-8330-c655107e9bb8/assets\n"
     ]
    }
   ],
   "source": [
    "#学習済みモデルの保存\n",
    "import pickle\n",
    "with open(\"digits.pkl\", \"wb\") as fp:\n",
    "    pickle.dump(clf, fp)"
   ]
  },
  {
   "cell_type": "code",
   "execution_count": 110,
   "id": "d887fff9",
   "metadata": {},
   "outputs": [
    {
     "name": "stdout",
     "output_type": "stream",
     "text": [
      "損失： 0.06150422245264053\n",
      "正解率： 0.9833333492279053\n"
     ]
    }
   ],
   "source": [
    "#学習済みモデルの読み込み\n",
    "with open(\"digits.pkl\", \"rb\") as fp:\n",
    "    clf1=pickle.load(fp)\n",
    "\n",
    "loss, accuracy=clf1.evaluate(X_test, y_test, verbose=0)\n",
    "print('損失：',loss)\n",
    "print('正解率：', accuracy)"
   ]
  },
  {
   "cell_type": "code",
   "execution_count": null,
   "id": "e6b23272",
   "metadata": {},
   "outputs": [],
   "source": []
  },
  {
   "cell_type": "code",
   "execution_count": null,
   "id": "f31944d3",
   "metadata": {},
   "outputs": [],
   "source": []
  }
 ],
 "metadata": {
  "kernelspec": {
   "display_name": "Python 3 (ipykernel)",
   "language": "python",
   "name": "python3"
  },
  "language_info": {
   "codemirror_mode": {
    "name": "ipython",
    "version": 3
   },
   "file_extension": ".py",
   "mimetype": "text/x-python",
   "name": "python",
   "nbconvert_exporter": "python",
   "pygments_lexer": "ipython3",
   "version": "3.9.12"
  }
 },
 "nbformat": 4,
 "nbformat_minor": 5
}
