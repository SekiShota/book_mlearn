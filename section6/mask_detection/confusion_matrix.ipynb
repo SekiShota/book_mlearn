{
 "cells": [
  {
   "cell_type": "code",
   "execution_count": 32,
   "id": "7ca1a8e9",
   "metadata": {
    "scrolled": true
   },
   "outputs": [
    {
     "name": "stdout",
     "output_type": "stream",
     "text": [
      "modules imported!>>>>>>>>>>>>>>>>>>>>>>\n",
      "model compiled!>>>>>>>>>>>>>>>>>>>>\n",
      "Epoch 1/100\n",
      "4/4 [==============================] - 5s 904ms/step - loss: 320.4228 - accuracy: 0.4899 - val_loss: 6.7208 - val_accuracy: 0.5618\n",
      "Epoch 2/100\n",
      "4/4 [==============================] - 3s 738ms/step - loss: 3.9810 - accuracy: 0.6910 - val_loss: 0.3815 - val_accuracy: 0.8539\n",
      "Epoch 3/100\n",
      "4/4 [==============================] - 3s 755ms/step - loss: 0.9253 - accuracy: 0.8191 - val_loss: 1.0319 - val_accuracy: 0.8764\n",
      "Epoch 4/100\n",
      "4/4 [==============================] - 3s 736ms/step - loss: 3.4230 - accuracy: 0.7211 - val_loss: 0.2740 - val_accuracy: 0.8876\n",
      "Epoch 5/100\n",
      "4/4 [==============================] - 3s 761ms/step - loss: 0.3596 - accuracy: 0.9045 - val_loss: 0.2564 - val_accuracy: 0.9213\n",
      "Epoch 6/100\n",
      "4/4 [==============================] - 3s 768ms/step - loss: 0.1776 - accuracy: 0.9548 - val_loss: 0.2855 - val_accuracy: 0.9551\n",
      "Epoch 7/100\n",
      "4/4 [==============================] - 3s 832ms/step - loss: 0.1191 - accuracy: 0.9799 - val_loss: 0.2371 - val_accuracy: 0.9551\n",
      "Epoch 8/100\n",
      "4/4 [==============================] - 3s 740ms/step - loss: 0.1182 - accuracy: 0.9799 - val_loss: 0.1768 - val_accuracy: 0.9326\n",
      "Epoch 9/100\n",
      "4/4 [==============================] - 3s 724ms/step - loss: 0.0811 - accuracy: 0.9849 - val_loss: 0.5264 - val_accuracy: 0.9213\n",
      "Epoch 10/100\n",
      "4/4 [==============================] - 3s 767ms/step - loss: 1.7208 - accuracy: 0.7538 - val_loss: 0.7284 - val_accuracy: 0.7079\n",
      "Epoch 11/100\n",
      "4/4 [==============================] - 3s 930ms/step - loss: 0.3531 - accuracy: 0.8618 - val_loss: 0.1214 - val_accuracy: 0.9663\n",
      "Epoch 12/100\n",
      "4/4 [==============================] - 3s 917ms/step - loss: 0.0494 - accuracy: 0.9899 - val_loss: 0.1845 - val_accuracy: 0.9663\n",
      "Epoch 13/100\n",
      "4/4 [==============================] - 4s 913ms/step - loss: 0.0149 - accuracy: 0.9950 - val_loss: 0.1763 - val_accuracy: 0.9551\n",
      "Epoch 14/100\n",
      "4/4 [==============================] - 3s 801ms/step - loss: 0.0170 - accuracy: 0.9975 - val_loss: 0.1832 - val_accuracy: 0.9663\n",
      "Epoch 15/100\n",
      "4/4 [==============================] - 3s 810ms/step - loss: 0.0141 - accuracy: 0.9950 - val_loss: 0.2946 - val_accuracy: 0.9551\n",
      "Epoch 16/100\n",
      "4/4 [==============================] - 3s 914ms/step - loss: 0.0272 - accuracy: 0.9950 - val_loss: 0.1636 - val_accuracy: 0.9663\n",
      "Epoch 17/100\n",
      "4/4 [==============================] - 3s 854ms/step - loss: 0.0130 - accuracy: 0.9950 - val_loss: 0.1645 - val_accuracy: 0.9438\n",
      "Epoch 18/100\n",
      "4/4 [==============================] - 3s 789ms/step - loss: 0.0196 - accuracy: 0.9925 - val_loss: 0.0773 - val_accuracy: 0.9888\n",
      "Epoch 19/100\n",
      "4/4 [==============================] - 3s 804ms/step - loss: 0.0070 - accuracy: 0.9975 - val_loss: 0.1411 - val_accuracy: 0.9775\n",
      "Epoch 20/100\n",
      "4/4 [==============================] - 3s 838ms/step - loss: 0.0068 - accuracy: 1.0000 - val_loss: 0.1424 - val_accuracy: 0.9775\n",
      "Epoch 21/100\n",
      "4/4 [==============================] - 4s 883ms/step - loss: 0.0062 - accuracy: 0.9975 - val_loss: 0.6763 - val_accuracy: 0.9101\n",
      "Epoch 22/100\n",
      "4/4 [==============================] - 3s 744ms/step - loss: 13.1276 - accuracy: 0.5930 - val_loss: 0.5037 - val_accuracy: 0.9101\n",
      "Epoch 23/100\n",
      "4/4 [==============================] - 3s 773ms/step - loss: 1.1254 - accuracy: 0.7588 - val_loss: 0.9008 - val_accuracy: 0.4607\n",
      "Epoch 24/100\n",
      "4/4 [==============================] - 3s 814ms/step - loss: 0.4514 - accuracy: 0.8015 - val_loss: 0.1049 - val_accuracy: 0.9663\n",
      "Epoch 25/100\n",
      "4/4 [==============================] - 3s 736ms/step - loss: 0.0349 - accuracy: 0.9925 - val_loss: 0.1325 - val_accuracy: 0.9663\n",
      "Epoch 26/100\n",
      "4/4 [==============================] - 3s 757ms/step - loss: 0.0250 - accuracy: 0.9975 - val_loss: 0.1353 - val_accuracy: 0.9663\n",
      "Epoch 27/100\n",
      "4/4 [==============================] - 3s 829ms/step - loss: 2.9871 - accuracy: 0.7915 - val_loss: 2.3433 - val_accuracy: 0.4382\n",
      "Epoch 28/100\n",
      "4/4 [==============================] - 3s 862ms/step - loss: 1.4954 - accuracy: 0.6382 - val_loss: 2.5495 - val_accuracy: 0.6292\n",
      "3/3 [==============================] - 0s 59ms/step - loss: 0.0773 - accuracy: 0.9888\n",
      "正解率 =  0.9887640476226807 loss =  0.07732068002223969\n",
      "実行時間： 92.74793815612793\n"
     ]
    }
   ],
   "source": [
    "import tensorflow.keras as keras\n",
    "from keras.models import Sequential\n",
    "from keras.layers import Dense, Dropout, Flatten\n",
    "from keras.layers import Conv2D, MaxPooling2D\n",
    "from keras.optimizers import RMSprop\n",
    "from keras.callbacks import EarlyStopping\n",
    "from sklearn.metrics import confusion_matrix\n",
    "\n",
    "import matplotlib.pyplot as plt\n",
    "import cv2, glob\n",
    "import numpy as np\n",
    "import time\n",
    "\n",
    "import warnings\n",
    "warnings.simplefilter('ignore')\n",
    "\n",
    "start=time.time()\n",
    "print(\"modules imported!>>>>>>>>>>>>>>>>>>>>>>\")\n",
    "\n",
    "#画像形式の指定\n",
    "in_shape=(50, 50, 3)\n",
    "nb_classes=2\n",
    "\n",
    "#CNNモデル構造の定義\n",
    "#入力層：50x50x3ch\n",
    "#畳み込み層1: 3x3のカーネルを32個使う\n",
    "#畳み込み層2: 3x3のカーネルを32個使う\n",
    "#プーリング層1: 2x2で区切ってその中の最大値を使う\n",
    "model=Sequential()\n",
    "model.add(Conv2D(32, kernel_size=(3,3), activation='relu', input_shape=in_shape))\n",
    "model.add(Conv2D(32, (3,3), activation='relu'))\n",
    "model.add(MaxPooling2D(pool_size=(2,2)))\n",
    "model.add(Dropout(0.25))\n",
    "\n",
    "#畳み込み層3: 3x3のカーネルを64個使う\n",
    "#畳み込み層4: 3x3のカーネルを64個使う\n",
    "#プーリング層1: 2x2で区切ってその中の最大値を使う\n",
    "model.add(Conv2D(64, (3,3), activation='relu'))\n",
    "model.add(Conv2D(64, (3,3), activation='relu'))\n",
    "model.add(MaxPooling2D(pool_size=(2,2)))\n",
    "model.add(Dropout(0.25))\n",
    "\n",
    "#全結合層: 512\n",
    "#出力層: 2(マスクありorなしの2値)\n",
    "model.add(Flatten())\n",
    "model.add(Dense(512, activation='relu'))\n",
    "model.add(Dropout(0.5))\n",
    "model.add(Dense(nb_classes, activation='softmax'))\n",
    "\n",
    "\n",
    "#モデルのコンパイル\n",
    "model.compile(\n",
    "    loss='categorical_crossentropy',\n",
    "    optimizer=RMSprop(),\n",
    "    metrics=['accuracy']\n",
    ")\n",
    "print('model compiled!>>>>>>>>>>>>>>>>>>>>')\n",
    "\n",
    "#画像データをNumpy形式に変換\n",
    "x=[]\n",
    "y=[]\n",
    "def read_files(target_files, y_val):\n",
    "    files=glob.glob(target_files)\n",
    "    for fname in files:\n",
    "        # print(fname)\n",
    "        #画像の読み出し\n",
    "        img=cv2.imread(fname)\n",
    "        #画像サイズを50 x 50にリサイズ\n",
    "        img=cv2.resize(img, (50,50))\n",
    "        # print(img)\n",
    "        x.append(img)\n",
    "        y.append(np.array(y_val))\n",
    "\n",
    "#ディレクトリ内の画像を集める\n",
    "read_files(\"./image/mask_off/*.jpg\", [1,0])\n",
    "read_files(\"./image/mask_on/*.jpg\", [0,1])\n",
    "x_train, y_train=(np.array(x), np.array(y))\n",
    "#\n",
    "# \"\"\"\n",
    "# #学習用データの水増し\n",
    "# \"\"\"\n",
    "# x_new=[]\n",
    "# y_new=[]\n",
    "# for i, xi in enumerate(x_train):\n",
    "#     yi=y_train[i]\n",
    "#     for ang in range(-30, 30, 5):\n",
    "#         #回転\n",
    "#         center=(25, 25)\n",
    "#         mtx=cv2.getRotationMatrix2D(center, ang, 1.0)\n",
    "#         xi2=cv2.warpAffine(xi, mtx, (50,50))\n",
    "#         x_new.append(xi2)\n",
    "#         y_new.append(yi)\n",
    "#\n",
    "#         #左右反転\n",
    "#         xi3=cv2.flip(xi2,1)\n",
    "#         x_new.append(xi3)\n",
    "#         y_new.append(yi)\n",
    "#\n",
    "# #水増しした画像を学習用に置き換える\n",
    "# print(\"水増し前：\", len(y_train))\n",
    "# x_train=np.array(x_new)\n",
    "# y_train=np.array(y_new)\n",
    "# print(\"水増し後：\", len(y_train))\n",
    "\n",
    "#テスト用画像をNumpy形式で得る\n",
    "x,y=[[],[]]\n",
    "read_files(\"./image/mask_off_test/*.jpg\", [1,0])\n",
    "read_files(\"./image/mask_on_test/*.jpg\", [0,1])\n",
    "x_test, y_test=(np.array(x), np.array(y))\n",
    "\n",
    "#早期終了を加える\n",
    "es_cb = EarlyStopping(patience = 10, restore_best_weights = True)\n",
    "\n",
    "#データの学習\n",
    "hist=model.fit(\n",
    "    x_train,\n",
    "    y_train,\n",
    "    batch_size=100,\n",
    "    epochs=100,\n",
    "    validation_split=0.2,\n",
    "    callbacks=[es_cb],\n",
    "    validation_data=(x_test,y_test)\n",
    ")\n",
    "end=time.time()\n",
    "\n",
    "#データの評価\n",
    "score=model.evaluate(x_test, y_test, verbose=1)\n",
    "print(\"正解率 = \",score[1], 'loss = ',score[0])\n",
    "print(\"実行時間：\", end-start)\n"
   ]
  },
  {
   "cell_type": "code",
   "execution_count": 43,
   "id": "a607bf33",
   "metadata": {
    "scrolled": true
   },
   "outputs": [
    {
     "name": "stdout",
     "output_type": "stream",
     "text": [
      "3/3 [==============================] - 0s 95ms/step\n"
     ]
    },
    {
     "data": {
      "text/plain": [
       "array([[9.91919398e-01, 8.08057562e-03],\n",
       "       [9.99925852e-01, 7.41553959e-05],\n",
       "       [9.99581397e-01, 4.18652402e-04],\n",
       "       [9.99926805e-01, 7.32096596e-05],\n",
       "       [9.99887228e-01, 1.12727488e-04],\n",
       "       [9.97939408e-01, 2.06052721e-03],\n",
       "       [9.99555886e-01, 4.44060017e-04],\n",
       "       [9.99599993e-01, 4.00081393e-04],\n",
       "       [9.99990940e-01, 9.02012744e-06],\n",
       "       [9.99188960e-01, 8.11015372e-04],\n",
       "       [9.98725116e-01, 1.27487385e-03],\n",
       "       [9.99428213e-01, 5.71724784e-04],\n",
       "       [9.99551237e-01, 4.48687962e-04],\n",
       "       [9.99707162e-01, 2.92850280e-04],\n",
       "       [9.95470643e-01, 4.52942960e-03],\n",
       "       [9.99272048e-01, 7.27969222e-04],\n",
       "       [9.78739858e-01, 2.12601293e-02],\n",
       "       [9.96568084e-01, 3.43189947e-03],\n",
       "       [9.98938382e-01, 1.06167304e-03],\n",
       "       [5.85345447e-01, 4.14654523e-01],\n",
       "       [9.99999285e-01, 7.71427267e-07],\n",
       "       [9.99870300e-01, 1.29626264e-04],\n",
       "       [9.99999166e-01, 7.95440656e-07],\n",
       "       [9.99990702e-01, 9.32205330e-06],\n",
       "       [9.99574721e-01, 4.25275241e-04],\n",
       "       [9.97477949e-01, 2.52204807e-03],\n",
       "       [9.99974608e-01, 2.53830458e-05],\n",
       "       [5.16176224e-03, 9.94838178e-01],\n",
       "       [9.99999166e-01, 8.08666982e-07],\n",
       "       [9.99996185e-01, 3.83496717e-06],\n",
       "       [9.98732030e-01, 1.26798940e-03],\n",
       "       [9.99971867e-01, 2.81917310e-05],\n",
       "       [9.97308612e-01, 2.69139931e-03],\n",
       "       [9.92564559e-01, 7.43540423e-03],\n",
       "       [9.43621039e-01, 5.63790016e-02],\n",
       "       [9.89710510e-01, 1.02894809e-02],\n",
       "       [9.97797012e-01, 2.20296113e-03],\n",
       "       [9.87080514e-01, 1.29194390e-02],\n",
       "       [9.99826729e-01, 1.73301567e-04],\n",
       "       [9.98566449e-01, 1.43362104e-03],\n",
       "       [9.99719560e-01, 2.80427717e-04],\n",
       "       [9.25675869e-01, 7.43241236e-02],\n",
       "       [9.77524757e-01, 2.24753134e-02],\n",
       "       [9.99189556e-01, 8.10432946e-04],\n",
       "       [9.98107433e-01, 1.89258077e-03],\n",
       "       [9.84965801e-01, 1.50341820e-02],\n",
       "       [9.99977112e-01, 2.28824665e-05],\n",
       "       [9.99920130e-01, 7.99155969e-05],\n",
       "       [9.98918533e-01, 1.08150824e-03],\n",
       "       [9.97429669e-01, 2.57031294e-03],\n",
       "       [1.06343941e-05, 9.99989390e-01],\n",
       "       [2.56028638e-04, 9.99743998e-01],\n",
       "       [3.25788482e-04, 9.99674201e-01],\n",
       "       [5.01882611e-03, 9.94981229e-01],\n",
       "       [1.26719751e-04, 9.99873281e-01],\n",
       "       [1.48659907e-04, 9.99851346e-01],\n",
       "       [3.28247916e-06, 9.99996662e-01],\n",
       "       [4.04333472e-01, 5.95666587e-01],\n",
       "       [7.76350731e-04, 9.99223590e-01],\n",
       "       [5.29131114e-07, 9.99999523e-01],\n",
       "       [1.86629514e-14, 1.00000000e+00],\n",
       "       [1.89307898e-01, 8.10692072e-01],\n",
       "       [2.97567055e-07, 9.99999762e-01],\n",
       "       [2.45620467e-05, 9.99975443e-01],\n",
       "       [4.92151912e-07, 9.99999523e-01],\n",
       "       [5.96647896e-03, 9.94033515e-01],\n",
       "       [5.68422838e-04, 9.99431551e-01],\n",
       "       [3.83156748e-06, 9.99996185e-01],\n",
       "       [5.28981071e-03, 9.94710207e-01],\n",
       "       [2.73776294e-07, 9.99999762e-01],\n",
       "       [1.77853181e-05, 9.99982238e-01],\n",
       "       [3.62693063e-05, 9.99963760e-01],\n",
       "       [4.11831279e-05, 9.99958873e-01],\n",
       "       [2.31493450e-05, 9.99976873e-01],\n",
       "       [1.25523975e-05, 9.99987483e-01],\n",
       "       [8.33374288e-05, 9.99916673e-01],\n",
       "       [1.35798120e-06, 9.99998689e-01],\n",
       "       [3.01358978e-05, 9.99969840e-01],\n",
       "       [5.18687535e-04, 9.99481380e-01],\n",
       "       [5.93100147e-08, 1.00000000e+00],\n",
       "       [4.39738808e-03, 9.95602608e-01],\n",
       "       [9.88051738e-07, 9.99999046e-01],\n",
       "       [1.13306523e-04, 9.99886632e-01],\n",
       "       [5.71716800e-02, 9.42828238e-01],\n",
       "       [6.79174409e-05, 9.99932051e-01],\n",
       "       [8.72159217e-06, 9.99991298e-01],\n",
       "       [5.25879477e-05, 9.99947429e-01],\n",
       "       [7.23811798e-04, 9.99276221e-01],\n",
       "       [5.31867272e-06, 9.99994636e-01]], dtype=float32)"
      ]
     },
     "execution_count": 43,
     "metadata": {},
     "output_type": "execute_result"
    }
   ],
   "source": [
    "#混同行列\n",
    "y_pred=model.predict(x_test)\n",
    "y_pred\n",
    "# print(confusion_matrix(y_pred, y_test))\n",
    "# #間違って予測した画像をfaultdataフォルダに保存\n",
    "# for i in range(len(y_test)):\n",
    "#     filename=i+'.jpg'\n",
    "#     if y_pred!=y_test:\n",
    "#         plt.savefig('./image/fault_datas/'+filename)"
   ]
  },
  {
   "cell_type": "code",
   "execution_count": 46,
   "id": "071382d8",
   "metadata": {},
   "outputs": [
    {
     "name": "stdout",
     "output_type": "stream",
     "text": [
      "89\n",
      "89\n",
      "[27]\n"
     ]
    },
    {
     "data": {
      "image/png": "[encoded data removed]",
      "text/plain": [
       "<Figure size 432x288 with 1 Axes>"
      ]
     },
     "metadata": {
      "needs_background": "light"
     },
     "output_type": "display_data"
    }
   ],
   "source": [
    "y_true=[]\n",
    "y_predict=[]\n",
    "fault_idx=[]\n",
    "\n",
    "for i in range(len(y_pred)):\n",
    "    filename=str(i)+\".jpeg\"\n",
    "    y_predict.append(y_pred[i].argmax())\n",
    "    y_true.append(y_test[i].argmax())\n",
    "    if y_predict[i]!=y_true[i]:\n",
    "        fault_idx.append(i)\n",
    "    \n",
    "print(len(y_true))\n",
    "print(len(y_predict))\n",
    "print(fault_idx)\n",
    "\n",
    "for i in range(len(fault_idx)):\n",
    "    plt.imshow(x_test[i])\n",
    "    \n",
    "plt.show()"
   ]
  },
  {
   "cell_type": "code",
   "execution_count": 47,
   "id": "22608107",
   "metadata": {
    "scrolled": true
   },
   "outputs": [
    {
     "data": {
      "text/plain": [
       "array([[49,  0],\n",
       "       [ 1, 39]])"
      ]
     },
     "execution_count": 47,
     "metadata": {},
     "output_type": "execute_result"
    }
   ],
   "source": [
    "confusion_matrix(y_predict,y_true)"
   ]
  },
  {
   "cell_type": "code",
   "execution_count": null,
   "id": "fbca99e0",
   "metadata": {},
   "outputs": [],
   "source": []
  },
  {
   "cell_type": "code",
   "execution_count": 49,
   "id": "bc68edcf",
   "metadata": {},
   "outputs": [
    {
     "data": {
      "text/plain": [
       "array([1, 0])"
      ]
     },
     "execution_count": 49,
     "metadata": {},
     "output_type": "execute_result"
    }
   ],
   "source": [
    "y_test[27]"
   ]
  },
  {
   "cell_type": "code",
   "execution_count": 39,
   "id": "229644d6",
   "metadata": {},
   "outputs": [
    {
     "name": "stdout",
     "output_type": "stream",
     "text": [
      "13/13 [==============================] - 1s 62ms/step\n",
      "398\n",
      "398\n"
     ]
    }
   ],
   "source": [
    "#混同行列\n",
    "y_pred=model.predict(x_train)\n",
    "\n",
    "y_true=[]\n",
    "y_predict=[]\n",
    "\n",
    "for i in range(len(y_pred)):\n",
    "    y_predict.append(y_pred[i].argmax())\n",
    "    y_true.append(y_train[i].argmax())\n",
    "    if y_predict[i]!=y_true[i]:\n",
    "        print(i)\n",
    "    \n",
    "print(len(y_true))\n",
    "print(len(y_predict))"
   ]
  },
  {
   "cell_type": "code",
   "execution_count": 40,
   "id": "4944b95e",
   "metadata": {},
   "outputs": [
    {
     "data": {
      "text/plain": [
       "array([[250,   0],\n",
       "       [  0, 148]])"
      ]
     },
     "execution_count": 40,
     "metadata": {},
     "output_type": "execute_result"
    }
   ],
   "source": [
    "confusion_matrix(y_predict,y_true)"
   ]
  },
  {
   "cell_type": "code",
   "execution_count": null,
   "id": "192b802c",
   "metadata": {},
   "outputs": [],
   "source": []
  }
 ],
 "metadata": {
  "kernelspec": {
   "display_name": "Python 3 (ipykernel)",
   "language": "python",
   "name": "python3"
  },
  "language_info": {
   "codemirror_mode": {
    "name": "ipython",
    "version": 3
   },
   "file_extension": ".py",
   "mimetype": "text/x-python",
   "name": "python",
   "nbconvert_exporter": "python",
   "pygments_lexer": "ipython3",
   "version": "3.9.12"
  }
 },
 "nbformat": 4,
 "nbformat_minor": 5
}
